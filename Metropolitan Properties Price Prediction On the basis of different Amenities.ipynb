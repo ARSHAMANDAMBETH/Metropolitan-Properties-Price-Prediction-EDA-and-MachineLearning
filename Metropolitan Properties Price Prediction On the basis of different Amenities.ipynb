{
 "cells": [
  {
   "cell_type": "markdown",
   "id": "064804cd",
   "metadata": {},
   "source": [
    "## Problem Statement"
   ]
  },
  {
   "cell_type": "markdown",
   "id": "a2a509a2",
   "metadata": {},
   "source": [
    "#### Nowadays it is very common for a person to move or relocate to a new city, it could be for a job, startup or any related reason. \n",
    "#### The biggest problem a person face is to find a good place to stay that should be available nearby, should be in budget and must include other essential amenities.\n",
    "#### The given dataset contains the information about some properties availabel in metropolitan cities like - Pune, Mumbai, Kolkata etc. "
   ]
  },
  {
   "cell_type": "markdown",
   "id": "4f5c353f",
   "metadata": {},
   "source": [
    "## Objective :"
   ]
  },
  {
   "cell_type": "markdown",
   "id": "011d0007",
   "metadata": {},
   "source": [
    "#### (i) Perform an Exploratory Data Analysis on the given dataset to show on what basis a person can find the best property as per their need.\n",
    "#### (ii) Implement a Machine Learning Model to predict the price of the properties."
   ]
  },
  {
   "cell_type": "markdown",
   "id": "122679ca",
   "metadata": {},
   "source": [
    "####  "
   ]
  },
  {
   "cell_type": "markdown",
   "id": "a34dc23e",
   "metadata": {},
   "source": [
    "## Importing Libraries"
   ]
  },
  {
   "cell_type": "code",
   "execution_count": 1,
   "id": "dfea9355",
   "metadata": {},
   "outputs": [],
   "source": [
    "import numpy as np\n",
    "import pandas as pd\n",
    "import matplotlib.pyplot as plt\n",
    "import seaborn as sns\n",
    "import warnings \n",
    "warnings.filterwarnings('ignore')"
   ]
  },
  {
   "cell_type": "markdown",
   "id": "027ab261",
   "metadata": {},
   "source": [
    "## Reading the dataset"
   ]
  },
  {
   "cell_type": "code",
   "execution_count": 2,
   "id": "27dc4f08",
   "metadata": {},
   "outputs": [],
   "source": [
    "df = pd.read_csv('metropolitan_properties.csv')"
   ]
  },
  {
   "cell_type": "markdown",
   "id": "3d7b902f",
   "metadata": {},
   "source": [
    "### Printing the Dataset"
   ]
  },
  {
   "cell_type": "code",
   "execution_count": 3,
   "id": "c712eafe",
   "metadata": {},
   "outputs": [
    {
     "data": {
      "text/html": [
       "<div>\n",
       "<style scoped>\n",
       "    .dataframe tbody tr th:only-of-type {\n",
       "        vertical-align: middle;\n",
       "    }\n",
       "\n",
       "    .dataframe tbody tr th {\n",
       "        vertical-align: top;\n",
       "    }\n",
       "\n",
       "    .dataframe thead th {\n",
       "        text-align: right;\n",
       "    }\n",
       "</style>\n",
       "<table border=\"1\" class=\"dataframe\">\n",
       "  <thead>\n",
       "    <tr style=\"text-align: right;\">\n",
       "      <th></th>\n",
       "      <th>seller_type</th>\n",
       "      <th>bedroom</th>\n",
       "      <th>layout_type</th>\n",
       "      <th>property_type</th>\n",
       "      <th>locality</th>\n",
       "      <th>price</th>\n",
       "      <th>area</th>\n",
       "      <th>furnish_type</th>\n",
       "      <th>bathroom</th>\n",
       "      <th>city</th>\n",
       "      <th>count</th>\n",
       "    </tr>\n",
       "  </thead>\n",
       "  <tbody>\n",
       "    <tr>\n",
       "      <th>0</th>\n",
       "      <td>OWNER</td>\n",
       "      <td>2</td>\n",
       "      <td>BHK</td>\n",
       "      <td>Apartment</td>\n",
       "      <td>Bodakdev</td>\n",
       "      <td>20000</td>\n",
       "      <td>1450</td>\n",
       "      <td>Furnished</td>\n",
       "      <td>2</td>\n",
       "      <td>Ahmedabad</td>\n",
       "      <td>1</td>\n",
       "    </tr>\n",
       "    <tr>\n",
       "      <th>1</th>\n",
       "      <td>OWNER</td>\n",
       "      <td>1</td>\n",
       "      <td>RK</td>\n",
       "      <td>Studio Apartment</td>\n",
       "      <td>CG Road</td>\n",
       "      <td>7350</td>\n",
       "      <td>210</td>\n",
       "      <td>Semi-Furnished</td>\n",
       "      <td>1</td>\n",
       "      <td>Ahmedabad</td>\n",
       "      <td>1</td>\n",
       "    </tr>\n",
       "    <tr>\n",
       "      <th>2</th>\n",
       "      <td>OWNER</td>\n",
       "      <td>3</td>\n",
       "      <td>BHK</td>\n",
       "      <td>Apartment</td>\n",
       "      <td>Jodhpur</td>\n",
       "      <td>22000</td>\n",
       "      <td>1900</td>\n",
       "      <td>Unfurnished</td>\n",
       "      <td>3</td>\n",
       "      <td>Ahmedabad</td>\n",
       "      <td>1</td>\n",
       "    </tr>\n",
       "    <tr>\n",
       "      <th>3</th>\n",
       "      <td>OWNER</td>\n",
       "      <td>2</td>\n",
       "      <td>BHK</td>\n",
       "      <td>Independent House</td>\n",
       "      <td>Sanand</td>\n",
       "      <td>13000</td>\n",
       "      <td>1285</td>\n",
       "      <td>Semi-Furnished</td>\n",
       "      <td>2</td>\n",
       "      <td>Ahmedabad</td>\n",
       "      <td>1</td>\n",
       "    </tr>\n",
       "    <tr>\n",
       "      <th>4</th>\n",
       "      <td>OWNER</td>\n",
       "      <td>2</td>\n",
       "      <td>BHK</td>\n",
       "      <td>Independent House</td>\n",
       "      <td>Navrangpura</td>\n",
       "      <td>18000</td>\n",
       "      <td>1600</td>\n",
       "      <td>Furnished</td>\n",
       "      <td>2</td>\n",
       "      <td>Ahmedabad</td>\n",
       "      <td>1</td>\n",
       "    </tr>\n",
       "    <tr>\n",
       "      <th>...</th>\n",
       "      <td>...</td>\n",
       "      <td>...</td>\n",
       "      <td>...</td>\n",
       "      <td>...</td>\n",
       "      <td>...</td>\n",
       "      <td>...</td>\n",
       "      <td>...</td>\n",
       "      <td>...</td>\n",
       "      <td>...</td>\n",
       "      <td>...</td>\n",
       "      <td>...</td>\n",
       "    </tr>\n",
       "    <tr>\n",
       "      <th>193006</th>\n",
       "      <td>OWNER</td>\n",
       "      <td>1</td>\n",
       "      <td>BHK</td>\n",
       "      <td>Apartment</td>\n",
       "      <td>Chinchwad</td>\n",
       "      <td>13250</td>\n",
       "      <td>650</td>\n",
       "      <td>Semi-Furnished</td>\n",
       "      <td>1</td>\n",
       "      <td>Pune</td>\n",
       "      <td>1</td>\n",
       "    </tr>\n",
       "    <tr>\n",
       "      <th>193007</th>\n",
       "      <td>OWNER</td>\n",
       "      <td>1</td>\n",
       "      <td>RK</td>\n",
       "      <td>Studio Apartment</td>\n",
       "      <td>Wadgaon Sheri</td>\n",
       "      <td>7000</td>\n",
       "      <td>350</td>\n",
       "      <td>Unfurnished</td>\n",
       "      <td>1</td>\n",
       "      <td>Pune</td>\n",
       "      <td>1</td>\n",
       "    </tr>\n",
       "    <tr>\n",
       "      <th>193008</th>\n",
       "      <td>OWNER</td>\n",
       "      <td>1</td>\n",
       "      <td>BHK</td>\n",
       "      <td>Apartment</td>\n",
       "      <td>Kothrud</td>\n",
       "      <td>8500</td>\n",
       "      <td>389</td>\n",
       "      <td>Semi-Furnished</td>\n",
       "      <td>1</td>\n",
       "      <td>Pune</td>\n",
       "      <td>1</td>\n",
       "    </tr>\n",
       "    <tr>\n",
       "      <th>193009</th>\n",
       "      <td>AGENT</td>\n",
       "      <td>1</td>\n",
       "      <td>BHK</td>\n",
       "      <td>Apartment</td>\n",
       "      <td>Wakad</td>\n",
       "      <td>16500</td>\n",
       "      <td>670</td>\n",
       "      <td>Semi-Furnished</td>\n",
       "      <td>2</td>\n",
       "      <td>Pune</td>\n",
       "      <td>1</td>\n",
       "    </tr>\n",
       "    <tr>\n",
       "      <th>193010</th>\n",
       "      <td>AGENT</td>\n",
       "      <td>2</td>\n",
       "      <td>BHK</td>\n",
       "      <td>Apartment</td>\n",
       "      <td>Alandi</td>\n",
       "      <td>12000</td>\n",
       "      <td>800</td>\n",
       "      <td>Unfurnished</td>\n",
       "      <td>2</td>\n",
       "      <td>Pune</td>\n",
       "      <td>1</td>\n",
       "    </tr>\n",
       "  </tbody>\n",
       "</table>\n",
       "<p>193011 rows × 11 columns</p>\n",
       "</div>"
      ],
      "text/plain": [
       "       seller_type  bedroom layout_type      property_type       locality  \\\n",
       "0            OWNER        2         BHK          Apartment       Bodakdev   \n",
       "1            OWNER        1          RK   Studio Apartment        CG Road   \n",
       "2            OWNER        3         BHK          Apartment        Jodhpur   \n",
       "3            OWNER        2         BHK  Independent House         Sanand   \n",
       "4            OWNER        2         BHK  Independent House    Navrangpura   \n",
       "...            ...      ...         ...                ...            ...   \n",
       "193006       OWNER        1         BHK          Apartment      Chinchwad   \n",
       "193007       OWNER        1          RK   Studio Apartment  Wadgaon Sheri   \n",
       "193008       OWNER        1         BHK          Apartment        Kothrud   \n",
       "193009       AGENT        1         BHK          Apartment          Wakad   \n",
       "193010       AGENT        2         BHK          Apartment         Alandi   \n",
       "\n",
       "        price  area    furnish_type  bathroom       city  count  \n",
       "0       20000  1450       Furnished         2  Ahmedabad      1  \n",
       "1        7350   210  Semi-Furnished         1  Ahmedabad      1  \n",
       "2       22000  1900     Unfurnished         3  Ahmedabad      1  \n",
       "3       13000  1285  Semi-Furnished         2  Ahmedabad      1  \n",
       "4       18000  1600       Furnished         2  Ahmedabad      1  \n",
       "...       ...   ...             ...       ...        ...    ...  \n",
       "193006  13250   650  Semi-Furnished         1       Pune      1  \n",
       "193007   7000   350     Unfurnished         1       Pune      1  \n",
       "193008   8500   389  Semi-Furnished         1       Pune      1  \n",
       "193009  16500   670  Semi-Furnished         2       Pune      1  \n",
       "193010  12000   800     Unfurnished         2       Pune      1  \n",
       "\n",
       "[193011 rows x 11 columns]"
      ]
     },
     "execution_count": 3,
     "metadata": {},
     "output_type": "execute_result"
    }
   ],
   "source": [
    "df"
   ]
  },
  {
   "cell_type": "markdown",
   "id": "596325e2",
   "metadata": {},
   "source": [
    "### Check the no. of Rows and Columns"
   ]
  },
  {
   "cell_type": "code",
   "execution_count": 4,
   "id": "4ccf1159",
   "metadata": {
    "scrolled": true
   },
   "outputs": [
    {
     "data": {
      "text/plain": [
       "(193011, 11)"
      ]
     },
     "execution_count": 4,
     "metadata": {},
     "output_type": "execute_result"
    }
   ],
   "source": [
    "df.shape"
   ]
  },
  {
   "cell_type": "markdown",
   "id": "7732fac4",
   "metadata": {},
   "source": [
    "### Observation :\n",
    "* There are 11 Features and 193011 attributes present in the Dataset.\n"
   ]
  },
  {
   "cell_type": "markdown",
   "id": "7732c465",
   "metadata": {},
   "source": [
    "### Rearranging the dataset"
   ]
  },
  {
   "cell_type": "code",
   "execution_count": 5,
   "id": "e8fd0be0",
   "metadata": {},
   "outputs": [],
   "source": [
    "df = df[['seller_type','layout_type','property_type','furnish_type','bedroom','bathroom','city','locality','area','price','count']]"
   ]
  },
  {
   "cell_type": "markdown",
   "id": "d25eb9b1",
   "metadata": {},
   "source": [
    "### List the columns Present in the Dataset"
   ]
  },
  {
   "cell_type": "code",
   "execution_count": 6,
   "id": "f0c6d8e3",
   "metadata": {
    "scrolled": true
   },
   "outputs": [
    {
     "data": {
      "text/plain": [
       "Index(['seller_type', 'layout_type', 'property_type', 'furnish_type',\n",
       "       'bedroom', 'bathroom', 'city', 'locality', 'area', 'price', 'count'],\n",
       "      dtype='object')"
      ]
     },
     "execution_count": 6,
     "metadata": {},
     "output_type": "execute_result"
    }
   ],
   "source": [
    "df.columns"
   ]
  },
  {
   "cell_type": "markdown",
   "id": "e3bfc221",
   "metadata": {},
   "source": [
    "### Dropping the unwanted features of the dataset"
   ]
  },
  {
   "cell_type": "code",
   "execution_count": 7,
   "id": "c6b5d593",
   "metadata": {},
   "outputs": [],
   "source": [
    "df.drop(['locality'],axis = 1,inplace = True)"
   ]
  },
  {
   "cell_type": "markdown",
   "id": "d5aa1f09",
   "metadata": {},
   "source": [
    "### Observation :\n",
    "* Dropping feature 'locality' from the dataset."
   ]
  },
  {
   "cell_type": "markdown",
   "id": "c210ab7d",
   "metadata": {},
   "source": [
    "### Print the Cleaned dataset"
   ]
  },
  {
   "cell_type": "code",
   "execution_count": 8,
   "id": "c3e66eb2",
   "metadata": {},
   "outputs": [
    {
     "data": {
      "text/html": [
       "<div>\n",
       "<style scoped>\n",
       "    .dataframe tbody tr th:only-of-type {\n",
       "        vertical-align: middle;\n",
       "    }\n",
       "\n",
       "    .dataframe tbody tr th {\n",
       "        vertical-align: top;\n",
       "    }\n",
       "\n",
       "    .dataframe thead th {\n",
       "        text-align: right;\n",
       "    }\n",
       "</style>\n",
       "<table border=\"1\" class=\"dataframe\">\n",
       "  <thead>\n",
       "    <tr style=\"text-align: right;\">\n",
       "      <th></th>\n",
       "      <th>seller_type</th>\n",
       "      <th>layout_type</th>\n",
       "      <th>property_type</th>\n",
       "      <th>furnish_type</th>\n",
       "      <th>bedroom</th>\n",
       "      <th>bathroom</th>\n",
       "      <th>city</th>\n",
       "      <th>area</th>\n",
       "      <th>price</th>\n",
       "      <th>count</th>\n",
       "    </tr>\n",
       "  </thead>\n",
       "  <tbody>\n",
       "    <tr>\n",
       "      <th>0</th>\n",
       "      <td>OWNER</td>\n",
       "      <td>BHK</td>\n",
       "      <td>Apartment</td>\n",
       "      <td>Furnished</td>\n",
       "      <td>2</td>\n",
       "      <td>2</td>\n",
       "      <td>Ahmedabad</td>\n",
       "      <td>1450</td>\n",
       "      <td>20000</td>\n",
       "      <td>1</td>\n",
       "    </tr>\n",
       "    <tr>\n",
       "      <th>1</th>\n",
       "      <td>OWNER</td>\n",
       "      <td>RK</td>\n",
       "      <td>Studio Apartment</td>\n",
       "      <td>Semi-Furnished</td>\n",
       "      <td>1</td>\n",
       "      <td>1</td>\n",
       "      <td>Ahmedabad</td>\n",
       "      <td>210</td>\n",
       "      <td>7350</td>\n",
       "      <td>1</td>\n",
       "    </tr>\n",
       "    <tr>\n",
       "      <th>2</th>\n",
       "      <td>OWNER</td>\n",
       "      <td>BHK</td>\n",
       "      <td>Apartment</td>\n",
       "      <td>Unfurnished</td>\n",
       "      <td>3</td>\n",
       "      <td>3</td>\n",
       "      <td>Ahmedabad</td>\n",
       "      <td>1900</td>\n",
       "      <td>22000</td>\n",
       "      <td>1</td>\n",
       "    </tr>\n",
       "    <tr>\n",
       "      <th>3</th>\n",
       "      <td>OWNER</td>\n",
       "      <td>BHK</td>\n",
       "      <td>Independent House</td>\n",
       "      <td>Semi-Furnished</td>\n",
       "      <td>2</td>\n",
       "      <td>2</td>\n",
       "      <td>Ahmedabad</td>\n",
       "      <td>1285</td>\n",
       "      <td>13000</td>\n",
       "      <td>1</td>\n",
       "    </tr>\n",
       "    <tr>\n",
       "      <th>4</th>\n",
       "      <td>OWNER</td>\n",
       "      <td>BHK</td>\n",
       "      <td>Independent House</td>\n",
       "      <td>Furnished</td>\n",
       "      <td>2</td>\n",
       "      <td>2</td>\n",
       "      <td>Ahmedabad</td>\n",
       "      <td>1600</td>\n",
       "      <td>18000</td>\n",
       "      <td>1</td>\n",
       "    </tr>\n",
       "    <tr>\n",
       "      <th>...</th>\n",
       "      <td>...</td>\n",
       "      <td>...</td>\n",
       "      <td>...</td>\n",
       "      <td>...</td>\n",
       "      <td>...</td>\n",
       "      <td>...</td>\n",
       "      <td>...</td>\n",
       "      <td>...</td>\n",
       "      <td>...</td>\n",
       "      <td>...</td>\n",
       "    </tr>\n",
       "    <tr>\n",
       "      <th>193006</th>\n",
       "      <td>OWNER</td>\n",
       "      <td>BHK</td>\n",
       "      <td>Apartment</td>\n",
       "      <td>Semi-Furnished</td>\n",
       "      <td>1</td>\n",
       "      <td>1</td>\n",
       "      <td>Pune</td>\n",
       "      <td>650</td>\n",
       "      <td>13250</td>\n",
       "      <td>1</td>\n",
       "    </tr>\n",
       "    <tr>\n",
       "      <th>193007</th>\n",
       "      <td>OWNER</td>\n",
       "      <td>RK</td>\n",
       "      <td>Studio Apartment</td>\n",
       "      <td>Unfurnished</td>\n",
       "      <td>1</td>\n",
       "      <td>1</td>\n",
       "      <td>Pune</td>\n",
       "      <td>350</td>\n",
       "      <td>7000</td>\n",
       "      <td>1</td>\n",
       "    </tr>\n",
       "    <tr>\n",
       "      <th>193008</th>\n",
       "      <td>OWNER</td>\n",
       "      <td>BHK</td>\n",
       "      <td>Apartment</td>\n",
       "      <td>Semi-Furnished</td>\n",
       "      <td>1</td>\n",
       "      <td>1</td>\n",
       "      <td>Pune</td>\n",
       "      <td>389</td>\n",
       "      <td>8500</td>\n",
       "      <td>1</td>\n",
       "    </tr>\n",
       "    <tr>\n",
       "      <th>193009</th>\n",
       "      <td>AGENT</td>\n",
       "      <td>BHK</td>\n",
       "      <td>Apartment</td>\n",
       "      <td>Semi-Furnished</td>\n",
       "      <td>1</td>\n",
       "      <td>2</td>\n",
       "      <td>Pune</td>\n",
       "      <td>670</td>\n",
       "      <td>16500</td>\n",
       "      <td>1</td>\n",
       "    </tr>\n",
       "    <tr>\n",
       "      <th>193010</th>\n",
       "      <td>AGENT</td>\n",
       "      <td>BHK</td>\n",
       "      <td>Apartment</td>\n",
       "      <td>Unfurnished</td>\n",
       "      <td>2</td>\n",
       "      <td>2</td>\n",
       "      <td>Pune</td>\n",
       "      <td>800</td>\n",
       "      <td>12000</td>\n",
       "      <td>1</td>\n",
       "    </tr>\n",
       "  </tbody>\n",
       "</table>\n",
       "<p>193011 rows × 10 columns</p>\n",
       "</div>"
      ],
      "text/plain": [
       "       seller_type layout_type      property_type    furnish_type  bedroom  \\\n",
       "0            OWNER         BHK          Apartment       Furnished        2   \n",
       "1            OWNER          RK   Studio Apartment  Semi-Furnished        1   \n",
       "2            OWNER         BHK          Apartment     Unfurnished        3   \n",
       "3            OWNER         BHK  Independent House  Semi-Furnished        2   \n",
       "4            OWNER         BHK  Independent House       Furnished        2   \n",
       "...            ...         ...                ...             ...      ...   \n",
       "193006       OWNER         BHK          Apartment  Semi-Furnished        1   \n",
       "193007       OWNER          RK   Studio Apartment     Unfurnished        1   \n",
       "193008       OWNER         BHK          Apartment  Semi-Furnished        1   \n",
       "193009       AGENT         BHK          Apartment  Semi-Furnished        1   \n",
       "193010       AGENT         BHK          Apartment     Unfurnished        2   \n",
       "\n",
       "        bathroom       city  area  price  count  \n",
       "0              2  Ahmedabad  1450  20000      1  \n",
       "1              1  Ahmedabad   210   7350      1  \n",
       "2              3  Ahmedabad  1900  22000      1  \n",
       "3              2  Ahmedabad  1285  13000      1  \n",
       "4              2  Ahmedabad  1600  18000      1  \n",
       "...          ...        ...   ...    ...    ...  \n",
       "193006         1       Pune   650  13250      1  \n",
       "193007         1       Pune   350   7000      1  \n",
       "193008         1       Pune   389   8500      1  \n",
       "193009         2       Pune   670  16500      1  \n",
       "193010         2       Pune   800  12000      1  \n",
       "\n",
       "[193011 rows x 10 columns]"
      ]
     },
     "execution_count": 8,
     "metadata": {},
     "output_type": "execute_result"
    }
   ],
   "source": [
    "df"
   ]
  },
  {
   "cell_type": "markdown",
   "id": "8c40ef00",
   "metadata": {},
   "source": [
    "### To print the first 5 records of the dataset"
   ]
  },
  {
   "cell_type": "code",
   "execution_count": 9,
   "id": "444400eb",
   "metadata": {},
   "outputs": [
    {
     "data": {
      "text/html": [
       "<div>\n",
       "<style scoped>\n",
       "    .dataframe tbody tr th:only-of-type {\n",
       "        vertical-align: middle;\n",
       "    }\n",
       "\n",
       "    .dataframe tbody tr th {\n",
       "        vertical-align: top;\n",
       "    }\n",
       "\n",
       "    .dataframe thead th {\n",
       "        text-align: right;\n",
       "    }\n",
       "</style>\n",
       "<table border=\"1\" class=\"dataframe\">\n",
       "  <thead>\n",
       "    <tr style=\"text-align: right;\">\n",
       "      <th></th>\n",
       "      <th>seller_type</th>\n",
       "      <th>layout_type</th>\n",
       "      <th>property_type</th>\n",
       "      <th>furnish_type</th>\n",
       "      <th>bedroom</th>\n",
       "      <th>bathroom</th>\n",
       "      <th>city</th>\n",
       "      <th>area</th>\n",
       "      <th>price</th>\n",
       "      <th>count</th>\n",
       "    </tr>\n",
       "  </thead>\n",
       "  <tbody>\n",
       "    <tr>\n",
       "      <th>0</th>\n",
       "      <td>OWNER</td>\n",
       "      <td>BHK</td>\n",
       "      <td>Apartment</td>\n",
       "      <td>Furnished</td>\n",
       "      <td>2</td>\n",
       "      <td>2</td>\n",
       "      <td>Ahmedabad</td>\n",
       "      <td>1450</td>\n",
       "      <td>20000</td>\n",
       "      <td>1</td>\n",
       "    </tr>\n",
       "    <tr>\n",
       "      <th>1</th>\n",
       "      <td>OWNER</td>\n",
       "      <td>RK</td>\n",
       "      <td>Studio Apartment</td>\n",
       "      <td>Semi-Furnished</td>\n",
       "      <td>1</td>\n",
       "      <td>1</td>\n",
       "      <td>Ahmedabad</td>\n",
       "      <td>210</td>\n",
       "      <td>7350</td>\n",
       "      <td>1</td>\n",
       "    </tr>\n",
       "    <tr>\n",
       "      <th>2</th>\n",
       "      <td>OWNER</td>\n",
       "      <td>BHK</td>\n",
       "      <td>Apartment</td>\n",
       "      <td>Unfurnished</td>\n",
       "      <td>3</td>\n",
       "      <td>3</td>\n",
       "      <td>Ahmedabad</td>\n",
       "      <td>1900</td>\n",
       "      <td>22000</td>\n",
       "      <td>1</td>\n",
       "    </tr>\n",
       "    <tr>\n",
       "      <th>3</th>\n",
       "      <td>OWNER</td>\n",
       "      <td>BHK</td>\n",
       "      <td>Independent House</td>\n",
       "      <td>Semi-Furnished</td>\n",
       "      <td>2</td>\n",
       "      <td>2</td>\n",
       "      <td>Ahmedabad</td>\n",
       "      <td>1285</td>\n",
       "      <td>13000</td>\n",
       "      <td>1</td>\n",
       "    </tr>\n",
       "    <tr>\n",
       "      <th>4</th>\n",
       "      <td>OWNER</td>\n",
       "      <td>BHK</td>\n",
       "      <td>Independent House</td>\n",
       "      <td>Furnished</td>\n",
       "      <td>2</td>\n",
       "      <td>2</td>\n",
       "      <td>Ahmedabad</td>\n",
       "      <td>1600</td>\n",
       "      <td>18000</td>\n",
       "      <td>1</td>\n",
       "    </tr>\n",
       "  </tbody>\n",
       "</table>\n",
       "</div>"
      ],
      "text/plain": [
       "  seller_type layout_type      property_type    furnish_type  bedroom  \\\n",
       "0       OWNER         BHK          Apartment       Furnished        2   \n",
       "1       OWNER          RK   Studio Apartment  Semi-Furnished        1   \n",
       "2       OWNER         BHK          Apartment     Unfurnished        3   \n",
       "3       OWNER         BHK  Independent House  Semi-Furnished        2   \n",
       "4       OWNER         BHK  Independent House       Furnished        2   \n",
       "\n",
       "   bathroom       city  area  price  count  \n",
       "0         2  Ahmedabad  1450  20000      1  \n",
       "1         1  Ahmedabad   210   7350      1  \n",
       "2         3  Ahmedabad  1900  22000      1  \n",
       "3         2  Ahmedabad  1285  13000      1  \n",
       "4         2  Ahmedabad  1600  18000      1  "
      ]
     },
     "execution_count": 9,
     "metadata": {},
     "output_type": "execute_result"
    }
   ],
   "source": [
    "df.head()"
   ]
  },
  {
   "cell_type": "markdown",
   "id": "e1d71689",
   "metadata": {},
   "source": [
    "### To print last 5 records of the dataset"
   ]
  },
  {
   "cell_type": "code",
   "execution_count": 10,
   "id": "1c68498b",
   "metadata": {},
   "outputs": [
    {
     "data": {
      "text/html": [
       "<div>\n",
       "<style scoped>\n",
       "    .dataframe tbody tr th:only-of-type {\n",
       "        vertical-align: middle;\n",
       "    }\n",
       "\n",
       "    .dataframe tbody tr th {\n",
       "        vertical-align: top;\n",
       "    }\n",
       "\n",
       "    .dataframe thead th {\n",
       "        text-align: right;\n",
       "    }\n",
       "</style>\n",
       "<table border=\"1\" class=\"dataframe\">\n",
       "  <thead>\n",
       "    <tr style=\"text-align: right;\">\n",
       "      <th></th>\n",
       "      <th>seller_type</th>\n",
       "      <th>layout_type</th>\n",
       "      <th>property_type</th>\n",
       "      <th>furnish_type</th>\n",
       "      <th>bedroom</th>\n",
       "      <th>bathroom</th>\n",
       "      <th>city</th>\n",
       "      <th>area</th>\n",
       "      <th>price</th>\n",
       "      <th>count</th>\n",
       "    </tr>\n",
       "  </thead>\n",
       "  <tbody>\n",
       "    <tr>\n",
       "      <th>193006</th>\n",
       "      <td>OWNER</td>\n",
       "      <td>BHK</td>\n",
       "      <td>Apartment</td>\n",
       "      <td>Semi-Furnished</td>\n",
       "      <td>1</td>\n",
       "      <td>1</td>\n",
       "      <td>Pune</td>\n",
       "      <td>650</td>\n",
       "      <td>13250</td>\n",
       "      <td>1</td>\n",
       "    </tr>\n",
       "    <tr>\n",
       "      <th>193007</th>\n",
       "      <td>OWNER</td>\n",
       "      <td>RK</td>\n",
       "      <td>Studio Apartment</td>\n",
       "      <td>Unfurnished</td>\n",
       "      <td>1</td>\n",
       "      <td>1</td>\n",
       "      <td>Pune</td>\n",
       "      <td>350</td>\n",
       "      <td>7000</td>\n",
       "      <td>1</td>\n",
       "    </tr>\n",
       "    <tr>\n",
       "      <th>193008</th>\n",
       "      <td>OWNER</td>\n",
       "      <td>BHK</td>\n",
       "      <td>Apartment</td>\n",
       "      <td>Semi-Furnished</td>\n",
       "      <td>1</td>\n",
       "      <td>1</td>\n",
       "      <td>Pune</td>\n",
       "      <td>389</td>\n",
       "      <td>8500</td>\n",
       "      <td>1</td>\n",
       "    </tr>\n",
       "    <tr>\n",
       "      <th>193009</th>\n",
       "      <td>AGENT</td>\n",
       "      <td>BHK</td>\n",
       "      <td>Apartment</td>\n",
       "      <td>Semi-Furnished</td>\n",
       "      <td>1</td>\n",
       "      <td>2</td>\n",
       "      <td>Pune</td>\n",
       "      <td>670</td>\n",
       "      <td>16500</td>\n",
       "      <td>1</td>\n",
       "    </tr>\n",
       "    <tr>\n",
       "      <th>193010</th>\n",
       "      <td>AGENT</td>\n",
       "      <td>BHK</td>\n",
       "      <td>Apartment</td>\n",
       "      <td>Unfurnished</td>\n",
       "      <td>2</td>\n",
       "      <td>2</td>\n",
       "      <td>Pune</td>\n",
       "      <td>800</td>\n",
       "      <td>12000</td>\n",
       "      <td>1</td>\n",
       "    </tr>\n",
       "  </tbody>\n",
       "</table>\n",
       "</div>"
      ],
      "text/plain": [
       "       seller_type layout_type     property_type    furnish_type  bedroom  \\\n",
       "193006       OWNER         BHK         Apartment  Semi-Furnished        1   \n",
       "193007       OWNER          RK  Studio Apartment     Unfurnished        1   \n",
       "193008       OWNER         BHK         Apartment  Semi-Furnished        1   \n",
       "193009       AGENT         BHK         Apartment  Semi-Furnished        1   \n",
       "193010       AGENT         BHK         Apartment     Unfurnished        2   \n",
       "\n",
       "        bathroom  city  area  price  count  \n",
       "193006         1  Pune   650  13250      1  \n",
       "193007         1  Pune   350   7000      1  \n",
       "193008         1  Pune   389   8500      1  \n",
       "193009         2  Pune   670  16500      1  \n",
       "193010         2  Pune   800  12000      1  "
      ]
     },
     "execution_count": 10,
     "metadata": {},
     "output_type": "execute_result"
    }
   ],
   "source": [
    "df.tail()"
   ]
  },
  {
   "cell_type": "markdown",
   "id": "8752902c",
   "metadata": {},
   "source": [
    "### To check is there any null values present in the dataset"
   ]
  },
  {
   "cell_type": "code",
   "execution_count": 11,
   "id": "10dddd55",
   "metadata": {},
   "outputs": [
    {
     "data": {
      "text/plain": [
       "seller_type      0\n",
       "layout_type      0\n",
       "property_type    0\n",
       "furnish_type     0\n",
       "bedroom          0\n",
       "bathroom         0\n",
       "city             0\n",
       "area             0\n",
       "price            0\n",
       "count            0\n",
       "dtype: int64"
      ]
     },
     "execution_count": 11,
     "metadata": {},
     "output_type": "execute_result"
    }
   ],
   "source": [
    "df.isnull().sum()"
   ]
  },
  {
   "cell_type": "markdown",
   "id": "daa1e029",
   "metadata": {},
   "source": [
    "### Observation :\n",
    "* There are no null values present in the dataset."
   ]
  },
  {
   "cell_type": "markdown",
   "id": "0ee1df56",
   "metadata": {},
   "source": [
    "### Print Statistical information about the dataset"
   ]
  },
  {
   "cell_type": "code",
   "execution_count": 12,
   "id": "ae6d4501",
   "metadata": {},
   "outputs": [
    {
     "data": {
      "text/html": [
       "<div>\n",
       "<style scoped>\n",
       "    .dataframe tbody tr th:only-of-type {\n",
       "        vertical-align: middle;\n",
       "    }\n",
       "\n",
       "    .dataframe tbody tr th {\n",
       "        vertical-align: top;\n",
       "    }\n",
       "\n",
       "    .dataframe thead th {\n",
       "        text-align: right;\n",
       "    }\n",
       "</style>\n",
       "<table border=\"1\" class=\"dataframe\">\n",
       "  <thead>\n",
       "    <tr style=\"text-align: right;\">\n",
       "      <th></th>\n",
       "      <th>bedroom</th>\n",
       "      <th>bathroom</th>\n",
       "      <th>area</th>\n",
       "      <th>price</th>\n",
       "      <th>count</th>\n",
       "    </tr>\n",
       "  </thead>\n",
       "  <tbody>\n",
       "    <tr>\n",
       "      <th>count</th>\n",
       "      <td>193011.000000</td>\n",
       "      <td>193011.000000</td>\n",
       "      <td>193011.000000</td>\n",
       "      <td>1.930110e+05</td>\n",
       "      <td>193011.0</td>\n",
       "    </tr>\n",
       "    <tr>\n",
       "      <th>mean</th>\n",
       "      <td>2.081679</td>\n",
       "      <td>2.059883</td>\n",
       "      <td>1264.606007</td>\n",
       "      <td>4.433654e+04</td>\n",
       "      <td>1.0</td>\n",
       "    </tr>\n",
       "    <tr>\n",
       "      <th>std</th>\n",
       "      <td>0.956901</td>\n",
       "      <td>0.934805</td>\n",
       "      <td>1043.723920</td>\n",
       "      <td>9.195199e+04</td>\n",
       "      <td>0.0</td>\n",
       "    </tr>\n",
       "    <tr>\n",
       "      <th>min</th>\n",
       "      <td>1.000000</td>\n",
       "      <td>1.000000</td>\n",
       "      <td>100.000000</td>\n",
       "      <td>1.200000e+03</td>\n",
       "      <td>1.0</td>\n",
       "    </tr>\n",
       "    <tr>\n",
       "      <th>25%</th>\n",
       "      <td>1.000000</td>\n",
       "      <td>1.000000</td>\n",
       "      <td>650.000000</td>\n",
       "      <td>1.300000e+04</td>\n",
       "      <td>1.0</td>\n",
       "    </tr>\n",
       "    <tr>\n",
       "      <th>50%</th>\n",
       "      <td>2.000000</td>\n",
       "      <td>2.000000</td>\n",
       "      <td>1000.000000</td>\n",
       "      <td>2.100000e+04</td>\n",
       "      <td>1.0</td>\n",
       "    </tr>\n",
       "    <tr>\n",
       "      <th>75%</th>\n",
       "      <td>3.000000</td>\n",
       "      <td>3.000000</td>\n",
       "      <td>1440.000000</td>\n",
       "      <td>3.600000e+04</td>\n",
       "      <td>1.0</td>\n",
       "    </tr>\n",
       "    <tr>\n",
       "      <th>max</th>\n",
       "      <td>15.000000</td>\n",
       "      <td>19.000000</td>\n",
       "      <td>19800.000000</td>\n",
       "      <td>5.885000e+06</td>\n",
       "      <td>1.0</td>\n",
       "    </tr>\n",
       "  </tbody>\n",
       "</table>\n",
       "</div>"
      ],
      "text/plain": [
       "             bedroom       bathroom           area         price     count\n",
       "count  193011.000000  193011.000000  193011.000000  1.930110e+05  193011.0\n",
       "mean        2.081679       2.059883    1264.606007  4.433654e+04       1.0\n",
       "std         0.956901       0.934805    1043.723920  9.195199e+04       0.0\n",
       "min         1.000000       1.000000     100.000000  1.200000e+03       1.0\n",
       "25%         1.000000       1.000000     650.000000  1.300000e+04       1.0\n",
       "50%         2.000000       2.000000    1000.000000  2.100000e+04       1.0\n",
       "75%         3.000000       3.000000    1440.000000  3.600000e+04       1.0\n",
       "max        15.000000      19.000000   19800.000000  5.885000e+06       1.0"
      ]
     },
     "execution_count": 12,
     "metadata": {},
     "output_type": "execute_result"
    }
   ],
   "source": [
    "df.describe()"
   ]
  },
  {
   "cell_type": "markdown",
   "id": "97c446a1",
   "metadata": {},
   "source": [
    "### Observation :\n",
    "\n",
    "* The Average Area of the property is 1264.6 sqft.\n",
    "* The Average number of bedrooms available in the given properties are 2.\n",
    "* The Average number of bathrooms available in the given properties are 2. "
   ]
  },
  {
   "cell_type": "markdown",
   "id": "7a511c86",
   "metadata": {},
   "source": [
    "## Print the info of the Dataset"
   ]
  },
  {
   "cell_type": "code",
   "execution_count": 13,
   "id": "ab3cda1a",
   "metadata": {
    "scrolled": true
   },
   "outputs": [
    {
     "name": "stdout",
     "output_type": "stream",
     "text": [
      "<class 'pandas.core.frame.DataFrame'>\n",
      "RangeIndex: 193011 entries, 0 to 193010\n",
      "Data columns (total 10 columns):\n",
      " #   Column         Non-Null Count   Dtype \n",
      "---  ------         --------------   ----- \n",
      " 0   seller_type    193011 non-null  object\n",
      " 1   layout_type    193011 non-null  object\n",
      " 2   property_type  193011 non-null  object\n",
      " 3   furnish_type   193011 non-null  object\n",
      " 4   bedroom        193011 non-null  int64 \n",
      " 5   bathroom       193011 non-null  int64 \n",
      " 6   city           193011 non-null  object\n",
      " 7   area           193011 non-null  int64 \n",
      " 8   price          193011 non-null  int64 \n",
      " 9   count          193011 non-null  int64 \n",
      "dtypes: int64(5), object(5)\n",
      "memory usage: 14.7+ MB\n"
     ]
    }
   ],
   "source": [
    "df.info()"
   ]
  },
  {
   "cell_type": "markdown",
   "id": "ff696179",
   "metadata": {},
   "source": [
    "### Observation :\n",
    "* The above output shows the information about each feature in the dataset.\n",
    "* There are 10 features present in the dataset after cleaning: \n",
    "    - 5 features are consist of 'int' data type.\n",
    "    - 5 features are consist of 'object' data type \n",
    "    - All the features are non-null.\n"
   ]
  },
  {
   "cell_type": "markdown",
   "id": "e213d1c0",
   "metadata": {},
   "source": [
    "## Sorting Data"
   ]
  },
  {
   "cell_type": "code",
   "execution_count": 14,
   "id": "8f534727",
   "metadata": {
    "scrolled": false
   },
   "outputs": [
    {
     "data": {
      "text/html": [
       "<div>\n",
       "<style scoped>\n",
       "    .dataframe tbody tr th:only-of-type {\n",
       "        vertical-align: middle;\n",
       "    }\n",
       "\n",
       "    .dataframe tbody tr th {\n",
       "        vertical-align: top;\n",
       "    }\n",
       "\n",
       "    .dataframe thead th {\n",
       "        text-align: right;\n",
       "    }\n",
       "</style>\n",
       "<table border=\"1\" class=\"dataframe\">\n",
       "  <thead>\n",
       "    <tr style=\"text-align: right;\">\n",
       "      <th></th>\n",
       "      <th>seller_type</th>\n",
       "      <th>layout_type</th>\n",
       "      <th>property_type</th>\n",
       "      <th>furnish_type</th>\n",
       "      <th>bedroom</th>\n",
       "      <th>bathroom</th>\n",
       "      <th>city</th>\n",
       "      <th>area</th>\n",
       "      <th>price</th>\n",
       "      <th>count</th>\n",
       "    </tr>\n",
       "  </thead>\n",
       "  <tbody>\n",
       "    <tr>\n",
       "      <th>70682</th>\n",
       "      <td>AGENT</td>\n",
       "      <td>BHK</td>\n",
       "      <td>Independent House</td>\n",
       "      <td>Unfurnished</td>\n",
       "      <td>12</td>\n",
       "      <td>4</td>\n",
       "      <td>Delhi</td>\n",
       "      <td>15562</td>\n",
       "      <td>5885000</td>\n",
       "      <td>1</td>\n",
       "    </tr>\n",
       "    <tr>\n",
       "      <th>72080</th>\n",
       "      <td>AGENT</td>\n",
       "      <td>BHK</td>\n",
       "      <td>Villa</td>\n",
       "      <td>Unfurnished</td>\n",
       "      <td>15</td>\n",
       "      <td>5</td>\n",
       "      <td>Delhi</td>\n",
       "      <td>17211</td>\n",
       "      <td>4129000</td>\n",
       "      <td>1</td>\n",
       "    </tr>\n",
       "    <tr>\n",
       "      <th>72072</th>\n",
       "      <td>AGENT</td>\n",
       "      <td>BHK</td>\n",
       "      <td>Villa</td>\n",
       "      <td>Unfurnished</td>\n",
       "      <td>15</td>\n",
       "      <td>5</td>\n",
       "      <td>Delhi</td>\n",
       "      <td>17211</td>\n",
       "      <td>4129000</td>\n",
       "      <td>1</td>\n",
       "    </tr>\n",
       "    <tr>\n",
       "      <th>72922</th>\n",
       "      <td>AGENT</td>\n",
       "      <td>BHK</td>\n",
       "      <td>Villa</td>\n",
       "      <td>Unfurnished</td>\n",
       "      <td>15</td>\n",
       "      <td>5</td>\n",
       "      <td>Delhi</td>\n",
       "      <td>15515</td>\n",
       "      <td>4011000</td>\n",
       "      <td>1</td>\n",
       "    </tr>\n",
       "    <tr>\n",
       "      <th>72312</th>\n",
       "      <td>AGENT</td>\n",
       "      <td>BHK</td>\n",
       "      <td>Villa</td>\n",
       "      <td>Unfurnished</td>\n",
       "      <td>8</td>\n",
       "      <td>8</td>\n",
       "      <td>Delhi</td>\n",
       "      <td>11010</td>\n",
       "      <td>4010000</td>\n",
       "      <td>1</td>\n",
       "    </tr>\n",
       "    <tr>\n",
       "      <th>72923</th>\n",
       "      <td>AGENT</td>\n",
       "      <td>BHK</td>\n",
       "      <td>Independent House</td>\n",
       "      <td>Unfurnished</td>\n",
       "      <td>10</td>\n",
       "      <td>5</td>\n",
       "      <td>Delhi</td>\n",
       "      <td>16521</td>\n",
       "      <td>3746000</td>\n",
       "      <td>1</td>\n",
       "    </tr>\n",
       "    <tr>\n",
       "      <th>71390</th>\n",
       "      <td>AGENT</td>\n",
       "      <td>BHK</td>\n",
       "      <td>Villa</td>\n",
       "      <td>Unfurnished</td>\n",
       "      <td>15</td>\n",
       "      <td>5</td>\n",
       "      <td>Delhi</td>\n",
       "      <td>18521</td>\n",
       "      <td>3624000</td>\n",
       "      <td>1</td>\n",
       "    </tr>\n",
       "    <tr>\n",
       "      <th>79878</th>\n",
       "      <td>AGENT</td>\n",
       "      <td>BHK</td>\n",
       "      <td>Villa</td>\n",
       "      <td>Semi-Furnished</td>\n",
       "      <td>12</td>\n",
       "      <td>12</td>\n",
       "      <td>Delhi</td>\n",
       "      <td>19800</td>\n",
       "      <td>3500000</td>\n",
       "      <td>1</td>\n",
       "    </tr>\n",
       "    <tr>\n",
       "      <th>77767</th>\n",
       "      <td>AGENT</td>\n",
       "      <td>BHK</td>\n",
       "      <td>Villa</td>\n",
       "      <td>Semi-Furnished</td>\n",
       "      <td>6</td>\n",
       "      <td>6</td>\n",
       "      <td>Delhi</td>\n",
       "      <td>11000</td>\n",
       "      <td>3500000</td>\n",
       "      <td>1</td>\n",
       "    </tr>\n",
       "    <tr>\n",
       "      <th>75797</th>\n",
       "      <td>AGENT</td>\n",
       "      <td>BHK</td>\n",
       "      <td>Villa</td>\n",
       "      <td>Unfurnished</td>\n",
       "      <td>14</td>\n",
       "      <td>4</td>\n",
       "      <td>Delhi</td>\n",
       "      <td>15562</td>\n",
       "      <td>2255000</td>\n",
       "      <td>1</td>\n",
       "    </tr>\n",
       "  </tbody>\n",
       "</table>\n",
       "</div>"
      ],
      "text/plain": [
       "      seller_type layout_type      property_type    furnish_type  bedroom  \\\n",
       "70682       AGENT         BHK  Independent House     Unfurnished       12   \n",
       "72080       AGENT         BHK              Villa     Unfurnished       15   \n",
       "72072       AGENT         BHK              Villa     Unfurnished       15   \n",
       "72922       AGENT         BHK              Villa     Unfurnished       15   \n",
       "72312       AGENT         BHK              Villa     Unfurnished        8   \n",
       "72923       AGENT         BHK  Independent House     Unfurnished       10   \n",
       "71390       AGENT         BHK              Villa     Unfurnished       15   \n",
       "79878       AGENT         BHK              Villa  Semi-Furnished       12   \n",
       "77767       AGENT         BHK              Villa  Semi-Furnished        6   \n",
       "75797       AGENT         BHK              Villa     Unfurnished       14   \n",
       "\n",
       "       bathroom   city   area    price  count  \n",
       "70682         4  Delhi  15562  5885000      1  \n",
       "72080         5  Delhi  17211  4129000      1  \n",
       "72072         5  Delhi  17211  4129000      1  \n",
       "72922         5  Delhi  15515  4011000      1  \n",
       "72312         8  Delhi  11010  4010000      1  \n",
       "72923         5  Delhi  16521  3746000      1  \n",
       "71390         5  Delhi  18521  3624000      1  \n",
       "79878        12  Delhi  19800  3500000      1  \n",
       "77767         6  Delhi  11000  3500000      1  \n",
       "75797         4  Delhi  15562  2255000      1  "
      ]
     },
     "execution_count": 14,
     "metadata": {},
     "output_type": "execute_result"
    }
   ],
   "source": [
    "df.sort_values(['price'],ascending=False).head(10) "
   ]
  },
  {
   "cell_type": "markdown",
   "id": "7d592b8f",
   "metadata": {},
   "source": [
    "### Observation :-\n",
    "* By sorting the values as per price, we can observe that the maximum price of property is Rs. 58,85,000.\n",
    "* This property is selling by an Agent.\n",
    "* The property is present in Delhi and Area of property is 15562 sqft.\n",
    "* Property_Type is Independent, and comes as Unfurnished.\n",
    "* It consist of 12 Bedrooms with 4 Bathroom."
   ]
  },
  {
   "cell_type": "code",
   "execution_count": 15,
   "id": "44f13677",
   "metadata": {
    "scrolled": true
   },
   "outputs": [
    {
     "data": {
      "text/html": [
       "<div>\n",
       "<style scoped>\n",
       "    .dataframe tbody tr th:only-of-type {\n",
       "        vertical-align: middle;\n",
       "    }\n",
       "\n",
       "    .dataframe tbody tr th {\n",
       "        vertical-align: top;\n",
       "    }\n",
       "\n",
       "    .dataframe thead th {\n",
       "        text-align: right;\n",
       "    }\n",
       "</style>\n",
       "<table border=\"1\" class=\"dataframe\">\n",
       "  <thead>\n",
       "    <tr style=\"text-align: right;\">\n",
       "      <th></th>\n",
       "      <th>seller_type</th>\n",
       "      <th>layout_type</th>\n",
       "      <th>property_type</th>\n",
       "      <th>furnish_type</th>\n",
       "      <th>bedroom</th>\n",
       "      <th>bathroom</th>\n",
       "      <th>city</th>\n",
       "      <th>area</th>\n",
       "      <th>price</th>\n",
       "      <th>count</th>\n",
       "    </tr>\n",
       "  </thead>\n",
       "  <tbody>\n",
       "    <tr>\n",
       "      <th>76772</th>\n",
       "      <td>AGENT</td>\n",
       "      <td>RK</td>\n",
       "      <td>Studio Apartment</td>\n",
       "      <td>Furnished</td>\n",
       "      <td>1</td>\n",
       "      <td>1</td>\n",
       "      <td>Delhi</td>\n",
       "      <td>220</td>\n",
       "      <td>1200</td>\n",
       "      <td>1</td>\n",
       "    </tr>\n",
       "    <tr>\n",
       "      <th>99651</th>\n",
       "      <td>OWNER</td>\n",
       "      <td>RK</td>\n",
       "      <td>Studio Apartment</td>\n",
       "      <td>Unfurnished</td>\n",
       "      <td>1</td>\n",
       "      <td>1</td>\n",
       "      <td>Kolkata</td>\n",
       "      <td>200</td>\n",
       "      <td>1500</td>\n",
       "      <td>1</td>\n",
       "    </tr>\n",
       "    <tr>\n",
       "      <th>161394</th>\n",
       "      <td>OWNER</td>\n",
       "      <td>RK</td>\n",
       "      <td>Studio Apartment</td>\n",
       "      <td>Semi-Furnished</td>\n",
       "      <td>1</td>\n",
       "      <td>1</td>\n",
       "      <td>Mumbai</td>\n",
       "      <td>310</td>\n",
       "      <td>1500</td>\n",
       "      <td>1</td>\n",
       "    </tr>\n",
       "    <tr>\n",
       "      <th>161416</th>\n",
       "      <td>OWNER</td>\n",
       "      <td>RK</td>\n",
       "      <td>Studio Apartment</td>\n",
       "      <td>Semi-Furnished</td>\n",
       "      <td>1</td>\n",
       "      <td>1</td>\n",
       "      <td>Mumbai</td>\n",
       "      <td>310</td>\n",
       "      <td>1500</td>\n",
       "      <td>1</td>\n",
       "    </tr>\n",
       "    <tr>\n",
       "      <th>92703</th>\n",
       "      <td>OWNER</td>\n",
       "      <td>BHK</td>\n",
       "      <td>Independent Floor</td>\n",
       "      <td>Unfurnished</td>\n",
       "      <td>1</td>\n",
       "      <td>1</td>\n",
       "      <td>Hyderabad</td>\n",
       "      <td>260</td>\n",
       "      <td>1500</td>\n",
       "      <td>1</td>\n",
       "    </tr>\n",
       "    <tr>\n",
       "      <th>88245</th>\n",
       "      <td>OWNER</td>\n",
       "      <td>BHK</td>\n",
       "      <td>Apartment</td>\n",
       "      <td>Semi-Furnished</td>\n",
       "      <td>1</td>\n",
       "      <td>1</td>\n",
       "      <td>Hyderabad</td>\n",
       "      <td>200</td>\n",
       "      <td>1500</td>\n",
       "      <td>1</td>\n",
       "    </tr>\n",
       "    <tr>\n",
       "      <th>36620</th>\n",
       "      <td>OWNER</td>\n",
       "      <td>BHK</td>\n",
       "      <td>Independent Floor</td>\n",
       "      <td>Unfurnished</td>\n",
       "      <td>1</td>\n",
       "      <td>1</td>\n",
       "      <td>Bangalore</td>\n",
       "      <td>250</td>\n",
       "      <td>1500</td>\n",
       "      <td>1</td>\n",
       "    </tr>\n",
       "    <tr>\n",
       "      <th>91574</th>\n",
       "      <td>OWNER</td>\n",
       "      <td>BHK</td>\n",
       "      <td>Independent Floor</td>\n",
       "      <td>Unfurnished</td>\n",
       "      <td>1</td>\n",
       "      <td>1</td>\n",
       "      <td>Hyderabad</td>\n",
       "      <td>260</td>\n",
       "      <td>1500</td>\n",
       "      <td>1</td>\n",
       "    </tr>\n",
       "    <tr>\n",
       "      <th>92441</th>\n",
       "      <td>OWNER</td>\n",
       "      <td>RK</td>\n",
       "      <td>Studio Apartment</td>\n",
       "      <td>Unfurnished</td>\n",
       "      <td>1</td>\n",
       "      <td>1</td>\n",
       "      <td>Hyderabad</td>\n",
       "      <td>250</td>\n",
       "      <td>1500</td>\n",
       "      <td>1</td>\n",
       "    </tr>\n",
       "    <tr>\n",
       "      <th>99997</th>\n",
       "      <td>OWNER</td>\n",
       "      <td>RK</td>\n",
       "      <td>Studio Apartment</td>\n",
       "      <td>Semi-Furnished</td>\n",
       "      <td>1</td>\n",
       "      <td>1</td>\n",
       "      <td>Kolkata</td>\n",
       "      <td>250</td>\n",
       "      <td>1500</td>\n",
       "      <td>1</td>\n",
       "    </tr>\n",
       "  </tbody>\n",
       "</table>\n",
       "</div>"
      ],
      "text/plain": [
       "       seller_type layout_type      property_type    furnish_type  bedroom  \\\n",
       "76772        AGENT          RK   Studio Apartment       Furnished        1   \n",
       "99651        OWNER          RK   Studio Apartment     Unfurnished        1   \n",
       "161394       OWNER          RK   Studio Apartment  Semi-Furnished        1   \n",
       "161416       OWNER          RK   Studio Apartment  Semi-Furnished        1   \n",
       "92703        OWNER         BHK  Independent Floor     Unfurnished        1   \n",
       "88245        OWNER         BHK          Apartment  Semi-Furnished        1   \n",
       "36620        OWNER         BHK  Independent Floor     Unfurnished        1   \n",
       "91574        OWNER         BHK  Independent Floor     Unfurnished        1   \n",
       "92441        OWNER          RK   Studio Apartment     Unfurnished        1   \n",
       "99997        OWNER          RK   Studio Apartment  Semi-Furnished        1   \n",
       "\n",
       "        bathroom       city  area  price  count  \n",
       "76772          1      Delhi   220   1200      1  \n",
       "99651          1    Kolkata   200   1500      1  \n",
       "161394         1     Mumbai   310   1500      1  \n",
       "161416         1     Mumbai   310   1500      1  \n",
       "92703          1  Hyderabad   260   1500      1  \n",
       "88245          1  Hyderabad   200   1500      1  \n",
       "36620          1  Bangalore   250   1500      1  \n",
       "91574          1  Hyderabad   260   1500      1  \n",
       "92441          1  Hyderabad   250   1500      1  \n",
       "99997          1    Kolkata   250   1500      1  "
      ]
     },
     "execution_count": 15,
     "metadata": {},
     "output_type": "execute_result"
    }
   ],
   "source": [
    "df.sort_values(['price']).head(10) "
   ]
  },
  {
   "cell_type": "markdown",
   "id": "9575a0db",
   "metadata": {},
   "source": [
    "### Observation :-\n",
    "* By sorting the values as per price, we can observe that the minimum price of property is Rs. 1200.\n",
    "* This property is selling by an Agent.\n",
    "* The property is present in Delhi and Area of property is 220 sqft.\n",
    "* Property_Type is Studio Apartment, and comes as Furnished.\n",
    "* It consist of 1 Bedrooms with 1 Bathroom."
   ]
  },
  {
   "cell_type": "code",
   "execution_count": 16,
   "id": "ea740e1a",
   "metadata": {},
   "outputs": [
    {
     "data": {
      "text/html": [
       "<div>\n",
       "<style scoped>\n",
       "    .dataframe tbody tr th:only-of-type {\n",
       "        vertical-align: middle;\n",
       "    }\n",
       "\n",
       "    .dataframe tbody tr th {\n",
       "        vertical-align: top;\n",
       "    }\n",
       "\n",
       "    .dataframe thead th {\n",
       "        text-align: right;\n",
       "    }\n",
       "</style>\n",
       "<table border=\"1\" class=\"dataframe\">\n",
       "  <thead>\n",
       "    <tr style=\"text-align: right;\">\n",
       "      <th></th>\n",
       "      <th>seller_type</th>\n",
       "      <th>layout_type</th>\n",
       "      <th>property_type</th>\n",
       "      <th>furnish_type</th>\n",
       "      <th>bedroom</th>\n",
       "      <th>bathroom</th>\n",
       "      <th>city</th>\n",
       "      <th>area</th>\n",
       "      <th>price</th>\n",
       "      <th>count</th>\n",
       "    </tr>\n",
       "  </thead>\n",
       "  <tbody>\n",
       "    <tr>\n",
       "      <th>79878</th>\n",
       "      <td>AGENT</td>\n",
       "      <td>BHK</td>\n",
       "      <td>Villa</td>\n",
       "      <td>Semi-Furnished</td>\n",
       "      <td>12</td>\n",
       "      <td>12</td>\n",
       "      <td>Delhi</td>\n",
       "      <td>19800</td>\n",
       "      <td>3500000</td>\n",
       "      <td>1</td>\n",
       "    </tr>\n",
       "    <tr>\n",
       "      <th>71207</th>\n",
       "      <td>AGENT</td>\n",
       "      <td>BHK</td>\n",
       "      <td>Independent House</td>\n",
       "      <td>Unfurnished</td>\n",
       "      <td>14</td>\n",
       "      <td>14</td>\n",
       "      <td>Delhi</td>\n",
       "      <td>18541</td>\n",
       "      <td>1741000</td>\n",
       "      <td>1</td>\n",
       "    </tr>\n",
       "    <tr>\n",
       "      <th>71369</th>\n",
       "      <td>AGENT</td>\n",
       "      <td>BHK</td>\n",
       "      <td>Independent House</td>\n",
       "      <td>Unfurnished</td>\n",
       "      <td>14</td>\n",
       "      <td>14</td>\n",
       "      <td>Delhi</td>\n",
       "      <td>18541</td>\n",
       "      <td>1741000</td>\n",
       "      <td>1</td>\n",
       "    </tr>\n",
       "    <tr>\n",
       "      <th>71390</th>\n",
       "      <td>AGENT</td>\n",
       "      <td>BHK</td>\n",
       "      <td>Villa</td>\n",
       "      <td>Unfurnished</td>\n",
       "      <td>15</td>\n",
       "      <td>5</td>\n",
       "      <td>Delhi</td>\n",
       "      <td>18521</td>\n",
       "      <td>3624000</td>\n",
       "      <td>1</td>\n",
       "    </tr>\n",
       "    <tr>\n",
       "      <th>72080</th>\n",
       "      <td>AGENT</td>\n",
       "      <td>BHK</td>\n",
       "      <td>Villa</td>\n",
       "      <td>Unfurnished</td>\n",
       "      <td>15</td>\n",
       "      <td>5</td>\n",
       "      <td>Delhi</td>\n",
       "      <td>17211</td>\n",
       "      <td>4129000</td>\n",
       "      <td>1</td>\n",
       "    </tr>\n",
       "    <tr>\n",
       "      <th>72072</th>\n",
       "      <td>AGENT</td>\n",
       "      <td>BHK</td>\n",
       "      <td>Villa</td>\n",
       "      <td>Unfurnished</td>\n",
       "      <td>15</td>\n",
       "      <td>5</td>\n",
       "      <td>Delhi</td>\n",
       "      <td>17211</td>\n",
       "      <td>4129000</td>\n",
       "      <td>1</td>\n",
       "    </tr>\n",
       "    <tr>\n",
       "      <th>72923</th>\n",
       "      <td>AGENT</td>\n",
       "      <td>BHK</td>\n",
       "      <td>Independent House</td>\n",
       "      <td>Unfurnished</td>\n",
       "      <td>10</td>\n",
       "      <td>5</td>\n",
       "      <td>Delhi</td>\n",
       "      <td>16521</td>\n",
       "      <td>3746000</td>\n",
       "      <td>1</td>\n",
       "    </tr>\n",
       "    <tr>\n",
       "      <th>75797</th>\n",
       "      <td>AGENT</td>\n",
       "      <td>BHK</td>\n",
       "      <td>Villa</td>\n",
       "      <td>Unfurnished</td>\n",
       "      <td>14</td>\n",
       "      <td>4</td>\n",
       "      <td>Delhi</td>\n",
       "      <td>15562</td>\n",
       "      <td>2255000</td>\n",
       "      <td>1</td>\n",
       "    </tr>\n",
       "    <tr>\n",
       "      <th>70682</th>\n",
       "      <td>AGENT</td>\n",
       "      <td>BHK</td>\n",
       "      <td>Independent House</td>\n",
       "      <td>Unfurnished</td>\n",
       "      <td>12</td>\n",
       "      <td>4</td>\n",
       "      <td>Delhi</td>\n",
       "      <td>15562</td>\n",
       "      <td>5885000</td>\n",
       "      <td>1</td>\n",
       "    </tr>\n",
       "    <tr>\n",
       "      <th>72922</th>\n",
       "      <td>AGENT</td>\n",
       "      <td>BHK</td>\n",
       "      <td>Villa</td>\n",
       "      <td>Unfurnished</td>\n",
       "      <td>15</td>\n",
       "      <td>5</td>\n",
       "      <td>Delhi</td>\n",
       "      <td>15515</td>\n",
       "      <td>4011000</td>\n",
       "      <td>1</td>\n",
       "    </tr>\n",
       "  </tbody>\n",
       "</table>\n",
       "</div>"
      ],
      "text/plain": [
       "      seller_type layout_type      property_type    furnish_type  bedroom  \\\n",
       "79878       AGENT         BHK              Villa  Semi-Furnished       12   \n",
       "71207       AGENT         BHK  Independent House     Unfurnished       14   \n",
       "71369       AGENT         BHK  Independent House     Unfurnished       14   \n",
       "71390       AGENT         BHK              Villa     Unfurnished       15   \n",
       "72080       AGENT         BHK              Villa     Unfurnished       15   \n",
       "72072       AGENT         BHK              Villa     Unfurnished       15   \n",
       "72923       AGENT         BHK  Independent House     Unfurnished       10   \n",
       "75797       AGENT         BHK              Villa     Unfurnished       14   \n",
       "70682       AGENT         BHK  Independent House     Unfurnished       12   \n",
       "72922       AGENT         BHK              Villa     Unfurnished       15   \n",
       "\n",
       "       bathroom   city   area    price  count  \n",
       "79878        12  Delhi  19800  3500000      1  \n",
       "71207        14  Delhi  18541  1741000      1  \n",
       "71369        14  Delhi  18541  1741000      1  \n",
       "71390         5  Delhi  18521  3624000      1  \n",
       "72080         5  Delhi  17211  4129000      1  \n",
       "72072         5  Delhi  17211  4129000      1  \n",
       "72923         5  Delhi  16521  3746000      1  \n",
       "75797         4  Delhi  15562  2255000      1  \n",
       "70682         4  Delhi  15562  5885000      1  \n",
       "72922         5  Delhi  15515  4011000      1  "
      ]
     },
     "execution_count": 16,
     "metadata": {},
     "output_type": "execute_result"
    }
   ],
   "source": [
    "df.sort_values(['area'],ascending=False).head(10) "
   ]
  },
  {
   "cell_type": "markdown",
   "id": "83afdfa4",
   "metadata": {},
   "source": [
    "### Observation :-\n",
    "* By sorting the values as per area, we can observe that the maximum area of property is 19800 sqft.\n",
    "* This property is selling by an Agent.\n",
    "* The property is present in Delhi and Price of property is Rs. 35,00,000.\n",
    "* Property_Type is Villa, and comes as Semi-Furnished.\n",
    "* It consist of 12 Bedrooms with 12 Bathroom."
   ]
  },
  {
   "cell_type": "code",
   "execution_count": 17,
   "id": "1cfc46aa",
   "metadata": {},
   "outputs": [
    {
     "data": {
      "text/html": [
       "<div>\n",
       "<style scoped>\n",
       "    .dataframe tbody tr th:only-of-type {\n",
       "        vertical-align: middle;\n",
       "    }\n",
       "\n",
       "    .dataframe tbody tr th {\n",
       "        vertical-align: top;\n",
       "    }\n",
       "\n",
       "    .dataframe thead th {\n",
       "        text-align: right;\n",
       "    }\n",
       "</style>\n",
       "<table border=\"1\" class=\"dataframe\">\n",
       "  <thead>\n",
       "    <tr style=\"text-align: right;\">\n",
       "      <th></th>\n",
       "      <th>seller_type</th>\n",
       "      <th>layout_type</th>\n",
       "      <th>property_type</th>\n",
       "      <th>furnish_type</th>\n",
       "      <th>bedroom</th>\n",
       "      <th>bathroom</th>\n",
       "      <th>city</th>\n",
       "      <th>area</th>\n",
       "      <th>price</th>\n",
       "      <th>count</th>\n",
       "    </tr>\n",
       "  </thead>\n",
       "  <tbody>\n",
       "    <tr>\n",
       "      <th>186107</th>\n",
       "      <td>AGENT</td>\n",
       "      <td>BHK</td>\n",
       "      <td>Apartment</td>\n",
       "      <td>Semi-Furnished</td>\n",
       "      <td>1</td>\n",
       "      <td>1</td>\n",
       "      <td>Pune</td>\n",
       "      <td>100</td>\n",
       "      <td>15000</td>\n",
       "      <td>1</td>\n",
       "    </tr>\n",
       "    <tr>\n",
       "      <th>186106</th>\n",
       "      <td>AGENT</td>\n",
       "      <td>BHK</td>\n",
       "      <td>Apartment</td>\n",
       "      <td>Semi-Furnished</td>\n",
       "      <td>1</td>\n",
       "      <td>1</td>\n",
       "      <td>Pune</td>\n",
       "      <td>100</td>\n",
       "      <td>15000</td>\n",
       "      <td>1</td>\n",
       "    </tr>\n",
       "    <tr>\n",
       "      <th>75692</th>\n",
       "      <td>AGENT</td>\n",
       "      <td>BHK</td>\n",
       "      <td>Independent House</td>\n",
       "      <td>Furnished</td>\n",
       "      <td>1</td>\n",
       "      <td>1</td>\n",
       "      <td>Delhi</td>\n",
       "      <td>100</td>\n",
       "      <td>11000</td>\n",
       "      <td>1</td>\n",
       "    </tr>\n",
       "    <tr>\n",
       "      <th>75691</th>\n",
       "      <td>AGENT</td>\n",
       "      <td>BHK</td>\n",
       "      <td>Independent House</td>\n",
       "      <td>Furnished</td>\n",
       "      <td>1</td>\n",
       "      <td>1</td>\n",
       "      <td>Delhi</td>\n",
       "      <td>100</td>\n",
       "      <td>11000</td>\n",
       "      <td>1</td>\n",
       "    </tr>\n",
       "    <tr>\n",
       "      <th>75690</th>\n",
       "      <td>AGENT</td>\n",
       "      <td>BHK</td>\n",
       "      <td>Independent House</td>\n",
       "      <td>Furnished</td>\n",
       "      <td>1</td>\n",
       "      <td>1</td>\n",
       "      <td>Delhi</td>\n",
       "      <td>100</td>\n",
       "      <td>10000</td>\n",
       "      <td>1</td>\n",
       "    </tr>\n",
       "    <tr>\n",
       "      <th>75694</th>\n",
       "      <td>AGENT</td>\n",
       "      <td>BHK</td>\n",
       "      <td>Independent House</td>\n",
       "      <td>Furnished</td>\n",
       "      <td>1</td>\n",
       "      <td>1</td>\n",
       "      <td>Delhi</td>\n",
       "      <td>100</td>\n",
       "      <td>12000</td>\n",
       "      <td>1</td>\n",
       "    </tr>\n",
       "    <tr>\n",
       "      <th>31868</th>\n",
       "      <td>AGENT</td>\n",
       "      <td>BHK</td>\n",
       "      <td>Independent House</td>\n",
       "      <td>Semi-Furnished</td>\n",
       "      <td>2</td>\n",
       "      <td>2</td>\n",
       "      <td>Bangalore</td>\n",
       "      <td>100</td>\n",
       "      <td>17500</td>\n",
       "      <td>1</td>\n",
       "    </tr>\n",
       "    <tr>\n",
       "      <th>186102</th>\n",
       "      <td>AGENT</td>\n",
       "      <td>BHK</td>\n",
       "      <td>Apartment</td>\n",
       "      <td>Semi-Furnished</td>\n",
       "      <td>1</td>\n",
       "      <td>1</td>\n",
       "      <td>Pune</td>\n",
       "      <td>100</td>\n",
       "      <td>15000</td>\n",
       "      <td>1</td>\n",
       "    </tr>\n",
       "    <tr>\n",
       "      <th>75693</th>\n",
       "      <td>AGENT</td>\n",
       "      <td>BHK</td>\n",
       "      <td>Independent House</td>\n",
       "      <td>Furnished</td>\n",
       "      <td>1</td>\n",
       "      <td>1</td>\n",
       "      <td>Delhi</td>\n",
       "      <td>100</td>\n",
       "      <td>12000</td>\n",
       "      <td>1</td>\n",
       "    </tr>\n",
       "    <tr>\n",
       "      <th>186105</th>\n",
       "      <td>AGENT</td>\n",
       "      <td>BHK</td>\n",
       "      <td>Apartment</td>\n",
       "      <td>Semi-Furnished</td>\n",
       "      <td>1</td>\n",
       "      <td>1</td>\n",
       "      <td>Pune</td>\n",
       "      <td>100</td>\n",
       "      <td>15000</td>\n",
       "      <td>1</td>\n",
       "    </tr>\n",
       "  </tbody>\n",
       "</table>\n",
       "</div>"
      ],
      "text/plain": [
       "       seller_type layout_type      property_type    furnish_type  bedroom  \\\n",
       "186107       AGENT         BHK          Apartment  Semi-Furnished        1   \n",
       "186106       AGENT         BHK          Apartment  Semi-Furnished        1   \n",
       "75692        AGENT         BHK  Independent House       Furnished        1   \n",
       "75691        AGENT         BHK  Independent House       Furnished        1   \n",
       "75690        AGENT         BHK  Independent House       Furnished        1   \n",
       "75694        AGENT         BHK  Independent House       Furnished        1   \n",
       "31868        AGENT         BHK  Independent House  Semi-Furnished        2   \n",
       "186102       AGENT         BHK          Apartment  Semi-Furnished        1   \n",
       "75693        AGENT         BHK  Independent House       Furnished        1   \n",
       "186105       AGENT         BHK          Apartment  Semi-Furnished        1   \n",
       "\n",
       "        bathroom       city  area  price  count  \n",
       "186107         1       Pune   100  15000      1  \n",
       "186106         1       Pune   100  15000      1  \n",
       "75692          1      Delhi   100  11000      1  \n",
       "75691          1      Delhi   100  11000      1  \n",
       "75690          1      Delhi   100  10000      1  \n",
       "75694          1      Delhi   100  12000      1  \n",
       "31868          2  Bangalore   100  17500      1  \n",
       "186102         1       Pune   100  15000      1  \n",
       "75693          1      Delhi   100  12000      1  \n",
       "186105         1       Pune   100  15000      1  "
      ]
     },
     "execution_count": 17,
     "metadata": {},
     "output_type": "execute_result"
    }
   ],
   "source": [
    "df.sort_values(['area']).head(10) "
   ]
  },
  {
   "cell_type": "markdown",
   "id": "3c31b034",
   "metadata": {},
   "source": [
    "### Observation :-\n",
    "* By sorting the values as per area, we can observe that the minimum area of property is 100 sqft.\n",
    "* This property is selling by an Agent.\n",
    "* The property is present in Pune and Price of property is Rs. 15,000.\n",
    "* Property_Type is Apartment, and comes as Semi-Furnished.\n",
    "* It consist of 1 Bedrooms with 1 Bathroom."
   ]
  },
  {
   "cell_type": "markdown",
   "id": "809506a0",
   "metadata": {},
   "source": [
    "## Pivot Table and Visualisation"
   ]
  },
  {
   "cell_type": "code",
   "execution_count": 18,
   "id": "ebdd05e5",
   "metadata": {},
   "outputs": [
    {
     "name": "stdout",
     "output_type": "stream",
     "text": [
      "properties available as per seller_type \n"
     ]
    },
    {
     "data": {
      "text/html": [
       "<div>\n",
       "<style scoped>\n",
       "    .dataframe tbody tr th:only-of-type {\n",
       "        vertical-align: middle;\n",
       "    }\n",
       "\n",
       "    .dataframe tbody tr th {\n",
       "        vertical-align: top;\n",
       "    }\n",
       "\n",
       "    .dataframe thead th {\n",
       "        text-align: right;\n",
       "    }\n",
       "</style>\n",
       "<table border=\"1\" class=\"dataframe\">\n",
       "  <thead>\n",
       "    <tr style=\"text-align: right;\">\n",
       "      <th></th>\n",
       "      <th>count</th>\n",
       "    </tr>\n",
       "    <tr>\n",
       "      <th>seller_type</th>\n",
       "      <th></th>\n",
       "    </tr>\n",
       "  </thead>\n",
       "  <tbody>\n",
       "    <tr>\n",
       "      <th>AGENT</th>\n",
       "      <td>152951</td>\n",
       "    </tr>\n",
       "    <tr>\n",
       "      <th>BUILDER</th>\n",
       "      <td>1346</td>\n",
       "    </tr>\n",
       "    <tr>\n",
       "      <th>OWNER</th>\n",
       "      <td>38714</td>\n",
       "    </tr>\n",
       "  </tbody>\n",
       "</table>\n",
       "</div>"
      ],
      "text/plain": [
       "              count\n",
       "seller_type        \n",
       "AGENT        152951\n",
       "BUILDER        1346\n",
       "OWNER         38714"
      ]
     },
     "execution_count": 18,
     "metadata": {},
     "output_type": "execute_result"
    }
   ],
   "source": [
    "print('properties available as per seller_type ')\n",
    "d1 = df.copy()\n",
    "pivot1 = d1.pivot_table(index = ['seller_type'],\n",
    "                       values = ['count'],sort = ('seller_type'),aggfunc = 'count'\n",
    "                       )\n",
    "pivot1"
   ]
  },
  {
   "cell_type": "code",
   "execution_count": 19,
   "id": "791bbcef",
   "metadata": {},
   "outputs": [
    {
     "data": {
      "image/png": "[encoded data removed]",
      "text/plain": [
       "<Figure size 720x360 with 1 Axes>"
      ]
     },
     "metadata": {
      "needs_background": "light"
     },
     "output_type": "display_data"
    }
   ],
   "source": [
    "fig = plt.subplots(figsize=(10, 5))\n",
    "sns.set()\n",
    "sns.countplot(df.seller_type,palette = 'pastel')\n",
    "plt.title('Properties available as per Seller_Type',fontsize = 20,color = 'blue')\n",
    "plt.xlabel('Seller_Type',fontsize = 16,color = 'red')\n",
    "plt.ylabel('Count',fontsize = 16,color = 'red')\n",
    "plt.show()"
   ]
  },
  {
   "cell_type": "markdown",
   "id": "c15defdf",
   "metadata": {},
   "source": [
    "### Observation :- \n",
    "* From above pivot_table and countplot we can say that AGENT has the maximum number of properties."
   ]
  },
  {
   "cell_type": "code",
   "execution_count": 20,
   "id": "2abc320c",
   "metadata": {},
   "outputs": [
    {
     "name": "stdout",
     "output_type": "stream",
     "text": [
      "properties available as per property_types\n"
     ]
    },
    {
     "data": {
      "text/html": [
       "<div>\n",
       "<style scoped>\n",
       "    .dataframe tbody tr th:only-of-type {\n",
       "        vertical-align: middle;\n",
       "    }\n",
       "\n",
       "    .dataframe tbody tr th {\n",
       "        vertical-align: top;\n",
       "    }\n",
       "\n",
       "    .dataframe thead th {\n",
       "        text-align: right;\n",
       "    }\n",
       "</style>\n",
       "<table border=\"1\" class=\"dataframe\">\n",
       "  <thead>\n",
       "    <tr style=\"text-align: right;\">\n",
       "      <th></th>\n",
       "      <th>count</th>\n",
       "    </tr>\n",
       "    <tr>\n",
       "      <th>property_type</th>\n",
       "      <th></th>\n",
       "    </tr>\n",
       "  </thead>\n",
       "  <tbody>\n",
       "    <tr>\n",
       "      <th>Apartment</th>\n",
       "      <td>140356</td>\n",
       "    </tr>\n",
       "    <tr>\n",
       "      <th>Independent Floor</th>\n",
       "      <td>27283</td>\n",
       "    </tr>\n",
       "    <tr>\n",
       "      <th>Independent House</th>\n",
       "      <td>12838</td>\n",
       "    </tr>\n",
       "    <tr>\n",
       "      <th>Penthouse</th>\n",
       "      <td>156</td>\n",
       "    </tr>\n",
       "    <tr>\n",
       "      <th>Studio Apartment</th>\n",
       "      <td>9263</td>\n",
       "    </tr>\n",
       "    <tr>\n",
       "      <th>Villa</th>\n",
       "      <td>3115</td>\n",
       "    </tr>\n",
       "  </tbody>\n",
       "</table>\n",
       "</div>"
      ],
      "text/plain": [
       "                    count\n",
       "property_type            \n",
       "Apartment          140356\n",
       "Independent Floor   27283\n",
       "Independent House   12838\n",
       "Penthouse             156\n",
       "Studio Apartment     9263\n",
       "Villa                3115"
      ]
     },
     "execution_count": 20,
     "metadata": {},
     "output_type": "execute_result"
    }
   ],
   "source": [
    "print('properties available as per property_types')\n",
    "d1 = df.copy()\n",
    "pivot2 = d1.pivot_table(index = ['property_type'],\n",
    "                       values = ['count'],sort = ('seller_type'),aggfunc = 'count'\n",
    "                       )\n",
    "pivot2"
   ]
  },
  {
   "cell_type": "code",
   "execution_count": 21,
   "id": "680cda2b",
   "metadata": {},
   "outputs": [
    {
     "data": {
      "image/png": "[encoded data removed]",
      "text/plain": [
       "<Figure size 1080x360 with 1 Axes>"
      ]
     },
     "metadata": {},
     "output_type": "display_data"
    }
   ],
   "source": [
    "fig = plt.subplots(figsize=(15, 5))\n",
    "sns.countplot(df.property_type)\n",
    "plt.title('Properties available as per Property_Type',fontsize = 20,color = 'blue')\n",
    "plt.xlabel('Property_Type',fontsize = 16,color = 'red')\n",
    "plt.ylabel('Count',fontsize = 16,color = 'red')\n",
    "plt.show()"
   ]
  },
  {
   "cell_type": "markdown",
   "id": "a32ab08b",
   "metadata": {},
   "source": [
    "### Observation :- \n",
    "* From above pivot_table and countplot we can observe that maximum properties are available as Apartments."
   ]
  },
  {
   "cell_type": "code",
   "execution_count": 22,
   "id": "740be3ba",
   "metadata": {},
   "outputs": [
    {
     "name": "stdout",
     "output_type": "stream",
     "text": [
      "properties available as per furnish_type\n"
     ]
    },
    {
     "data": {
      "text/html": [
       "<div>\n",
       "<style scoped>\n",
       "    .dataframe tbody tr th:only-of-type {\n",
       "        vertical-align: middle;\n",
       "    }\n",
       "\n",
       "    .dataframe tbody tr th {\n",
       "        vertical-align: top;\n",
       "    }\n",
       "\n",
       "    .dataframe thead th {\n",
       "        text-align: right;\n",
       "    }\n",
       "</style>\n",
       "<table border=\"1\" class=\"dataframe\">\n",
       "  <thead>\n",
       "    <tr style=\"text-align: right;\">\n",
       "      <th></th>\n",
       "      <th>count</th>\n",
       "    </tr>\n",
       "    <tr>\n",
       "      <th>furnish_type</th>\n",
       "      <th></th>\n",
       "    </tr>\n",
       "  </thead>\n",
       "  <tbody>\n",
       "    <tr>\n",
       "      <th>Furnished</th>\n",
       "      <td>38589</td>\n",
       "    </tr>\n",
       "    <tr>\n",
       "      <th>Semi-Furnished</th>\n",
       "      <td>95726</td>\n",
       "    </tr>\n",
       "    <tr>\n",
       "      <th>Unfurnished</th>\n",
       "      <td>58696</td>\n",
       "    </tr>\n",
       "  </tbody>\n",
       "</table>\n",
       "</div>"
      ],
      "text/plain": [
       "                count\n",
       "furnish_type         \n",
       "Furnished       38589\n",
       "Semi-Furnished  95726\n",
       "Unfurnished     58696"
      ]
     },
     "execution_count": 22,
     "metadata": {},
     "output_type": "execute_result"
    }
   ],
   "source": [
    "print('properties available as per furnish_type')\n",
    "d1 = df.copy()\n",
    "pivot3 = d1.pivot_table(index = ['furnish_type'],\n",
    "                       values = ['count'],sort = ('furnish_type'),aggfunc = 'count'\n",
    "                       )\n",
    "pivot3"
   ]
  },
  {
   "cell_type": "code",
   "execution_count": 23,
   "id": "0090d972",
   "metadata": {},
   "outputs": [
    {
     "data": {
      "image/png": "[encoded data removed]",
      "text/plain": [
       "<Figure size 432x288 with 1 Axes>"
      ]
     },
     "metadata": {},
     "output_type": "display_data"
    }
   ],
   "source": [
    "pivot3['count'].plot.pie(autopct='%1.1f%%',shadow=True,explode = (0,0.07,0))\n",
    "plt.title('Properties available as per Furnish_Type',fontsize = 20,color = 'Purple' )\n",
    "plt.xlabel('Furnish_type',fontsize=16,color='red')\n",
    "plt.ylabel('')\n",
    "plt.show()"
   ]
  },
  {
   "cell_type": "markdown",
   "id": "261f1941",
   "metadata": {},
   "source": [
    "### Observation :- \n",
    "* From above pivot_table and pie chart we can observe that maximum properties are available as Semi-Furnished."
   ]
  },
  {
   "cell_type": "code",
   "execution_count": 24,
   "id": "cd216150",
   "metadata": {
    "scrolled": true
   },
   "outputs": [
    {
     "name": "stdout",
     "output_type": "stream",
     "text": [
      "properties available as per cities\n"
     ]
    },
    {
     "data": {
      "text/html": [
       "<div>\n",
       "<style scoped>\n",
       "    .dataframe tbody tr th:only-of-type {\n",
       "        vertical-align: middle;\n",
       "    }\n",
       "\n",
       "    .dataframe tbody tr th {\n",
       "        vertical-align: top;\n",
       "    }\n",
       "\n",
       "    .dataframe thead th {\n",
       "        text-align: right;\n",
       "    }\n",
       "</style>\n",
       "<table border=\"1\" class=\"dataframe\">\n",
       "  <thead>\n",
       "    <tr style=\"text-align: right;\">\n",
       "      <th></th>\n",
       "      <th>count</th>\n",
       "    </tr>\n",
       "    <tr>\n",
       "      <th>city</th>\n",
       "      <th></th>\n",
       "    </tr>\n",
       "  </thead>\n",
       "  <tbody>\n",
       "    <tr>\n",
       "      <th>Ahmedabad</th>\n",
       "      <td>18453</td>\n",
       "    </tr>\n",
       "    <tr>\n",
       "      <th>Bangalore</th>\n",
       "      <td>23072</td>\n",
       "    </tr>\n",
       "    <tr>\n",
       "      <th>Chennai</th>\n",
       "      <td>8658</td>\n",
       "    </tr>\n",
       "    <tr>\n",
       "      <th>Delhi</th>\n",
       "      <td>32608</td>\n",
       "    </tr>\n",
       "    <tr>\n",
       "      <th>Hyderabad</th>\n",
       "      <td>10544</td>\n",
       "    </tr>\n",
       "    <tr>\n",
       "      <th>Kolkata</th>\n",
       "      <td>9664</td>\n",
       "    </tr>\n",
       "    <tr>\n",
       "      <th>Mumbai</th>\n",
       "      <td>67416</td>\n",
       "    </tr>\n",
       "    <tr>\n",
       "      <th>Pune</th>\n",
       "      <td>22596</td>\n",
       "    </tr>\n",
       "  </tbody>\n",
       "</table>\n",
       "</div>"
      ],
      "text/plain": [
       "           count\n",
       "city            \n",
       "Ahmedabad  18453\n",
       "Bangalore  23072\n",
       "Chennai     8658\n",
       "Delhi      32608\n",
       "Hyderabad  10544\n",
       "Kolkata     9664\n",
       "Mumbai     67416\n",
       "Pune       22596"
      ]
     },
     "execution_count": 24,
     "metadata": {},
     "output_type": "execute_result"
    }
   ],
   "source": [
    "print('properties available as per cities')\n",
    "d1 = df.copy()\n",
    "pivot4 = d1.pivot_table(index = ['city'],\n",
    "                       values = ['count'],sort = ('city'),aggfunc = 'count'\n",
    "                       )\n",
    "pivot4"
   ]
  },
  {
   "cell_type": "code",
   "execution_count": 25,
   "id": "20ad29e2",
   "metadata": {},
   "outputs": [
    {
     "data": {
      "image/png": "[encoded data removed]",
      "text/plain": [
       "<Figure size 1080x360 with 1 Axes>"
      ]
     },
     "metadata": {},
     "output_type": "display_data"
    }
   ],
   "source": [
    "d1.groupby('city')[['count']].count().plot.bar(color='r',figsize=(15,5))\n",
    "plt.title('Citywise Number of Properties available for rent\\n',fontsize=22,color='green')\n",
    "plt.xlabel('City',fontsize=18,color = 'blue')\n",
    "plt.ylabel('Count',fontsize=14,color='blue')\n",
    "plt.xticks(rotation=0,fontsize=13,color='purple')\n",
    "plt.show()"
   ]
  },
  {
   "cell_type": "markdown",
   "id": "ab3a2cf8",
   "metadata": {},
   "source": [
    "### Observation :- \n",
    "* From above pivot_table and barplot we can observe that Mumbai has the maximum number properties."
   ]
  },
  {
   "cell_type": "code",
   "execution_count": 26,
   "id": "30336787",
   "metadata": {
    "scrolled": true
   },
   "outputs": [
    {
     "name": "stdout",
     "output_type": "stream",
     "text": [
      "Maximum Price of Properties with respect to Cities\n"
     ]
    },
    {
     "data": {
      "text/html": [
       "<div>\n",
       "<style scoped>\n",
       "    .dataframe tbody tr th:only-of-type {\n",
       "        vertical-align: middle;\n",
       "    }\n",
       "\n",
       "    .dataframe tbody tr th {\n",
       "        vertical-align: top;\n",
       "    }\n",
       "\n",
       "    .dataframe thead th {\n",
       "        text-align: right;\n",
       "    }\n",
       "</style>\n",
       "<table border=\"1\" class=\"dataframe\">\n",
       "  <thead>\n",
       "    <tr style=\"text-align: right;\">\n",
       "      <th></th>\n",
       "      <th>price</th>\n",
       "    </tr>\n",
       "    <tr>\n",
       "      <th>city</th>\n",
       "      <th></th>\n",
       "    </tr>\n",
       "  </thead>\n",
       "  <tbody>\n",
       "    <tr>\n",
       "      <th>Ahmedabad</th>\n",
       "      <td>380000</td>\n",
       "    </tr>\n",
       "    <tr>\n",
       "      <th>Bangalore</th>\n",
       "      <td>900000</td>\n",
       "    </tr>\n",
       "    <tr>\n",
       "      <th>Chennai</th>\n",
       "      <td>600000</td>\n",
       "    </tr>\n",
       "    <tr>\n",
       "      <th>Delhi</th>\n",
       "      <td>5885000</td>\n",
       "    </tr>\n",
       "    <tr>\n",
       "      <th>Hyderabad</th>\n",
       "      <td>600000</td>\n",
       "    </tr>\n",
       "    <tr>\n",
       "      <th>Kolkata</th>\n",
       "      <td>750000</td>\n",
       "    </tr>\n",
       "    <tr>\n",
       "      <th>Mumbai</th>\n",
       "      <td>1600000</td>\n",
       "    </tr>\n",
       "    <tr>\n",
       "      <th>Pune</th>\n",
       "      <td>550000</td>\n",
       "    </tr>\n",
       "  </tbody>\n",
       "</table>\n",
       "</div>"
      ],
      "text/plain": [
       "             price\n",
       "city              \n",
       "Ahmedabad   380000\n",
       "Bangalore   900000\n",
       "Chennai     600000\n",
       "Delhi      5885000\n",
       "Hyderabad   600000\n",
       "Kolkata     750000\n",
       "Mumbai     1600000\n",
       "Pune        550000"
      ]
     },
     "execution_count": 26,
     "metadata": {},
     "output_type": "execute_result"
    }
   ],
   "source": [
    "print('Maximum Price of Properties with respect to Cities')\n",
    "d1 = df.copy()\n",
    "pivot5 = d1.pivot_table(index = ['city'],\n",
    "                       values = ['price'],sort = ('city'),aggfunc = 'max'\n",
    "                       )\n",
    "pivot5"
   ]
  },
  {
   "cell_type": "code",
   "execution_count": 27,
   "id": "c6aa1141",
   "metadata": {},
   "outputs": [
    {
     "data": {
      "image/png": "[encoded data removed]",
      "text/plain": [
       "<Figure size 1080x360 with 1 Axes>"
      ]
     },
     "metadata": {},
     "output_type": "display_data"
    }
   ],
   "source": [
    "d1.groupby('city')[['price']].max().plot.bar(color='b',figsize=(15,5))\n",
    "plt.title('Citywise maximum price of properties available for rent\\n',color='red',fontsize=22)\n",
    "plt.xlabel('City',fontsize=18,color = 'green')\n",
    "plt.ylabel('Price',fontsize=16,color = 'green')\n",
    "plt.legend()\n",
    "plt.xticks(rotation=0,fontsize=13,color='purple')\n",
    "plt.show()"
   ]
  },
  {
   "cell_type": "markdown",
   "id": "32a6ef27",
   "metadata": {},
   "source": [
    "### Observation :- \n",
    "* From above pivot_table and barplot we can observe that Delhi has the highest rates of properties."
   ]
  },
  {
   "cell_type": "code",
   "execution_count": 28,
   "id": "2464ebca",
   "metadata": {},
   "outputs": [
    {
     "name": "stdout",
     "output_type": "stream",
     "text": [
      "Minimum Price of Properties with respect to Cities\n"
     ]
    },
    {
     "data": {
      "text/html": [
       "<div>\n",
       "<style scoped>\n",
       "    .dataframe tbody tr th:only-of-type {\n",
       "        vertical-align: middle;\n",
       "    }\n",
       "\n",
       "    .dataframe tbody tr th {\n",
       "        vertical-align: top;\n",
       "    }\n",
       "\n",
       "    .dataframe thead th {\n",
       "        text-align: right;\n",
       "    }\n",
       "</style>\n",
       "<table border=\"1\" class=\"dataframe\">\n",
       "  <thead>\n",
       "    <tr style=\"text-align: right;\">\n",
       "      <th></th>\n",
       "      <th>price</th>\n",
       "    </tr>\n",
       "    <tr>\n",
       "      <th>city</th>\n",
       "      <th></th>\n",
       "    </tr>\n",
       "  </thead>\n",
       "  <tbody>\n",
       "    <tr>\n",
       "      <th>Ahmedabad</th>\n",
       "      <td>3500</td>\n",
       "    </tr>\n",
       "    <tr>\n",
       "      <th>Bangalore</th>\n",
       "      <td>1500</td>\n",
       "    </tr>\n",
       "    <tr>\n",
       "      <th>Chennai</th>\n",
       "      <td>2000</td>\n",
       "    </tr>\n",
       "    <tr>\n",
       "      <th>Delhi</th>\n",
       "      <td>1200</td>\n",
       "    </tr>\n",
       "    <tr>\n",
       "      <th>Hyderabad</th>\n",
       "      <td>1500</td>\n",
       "    </tr>\n",
       "    <tr>\n",
       "      <th>Kolkata</th>\n",
       "      <td>1500</td>\n",
       "    </tr>\n",
       "    <tr>\n",
       "      <th>Mumbai</th>\n",
       "      <td>1500</td>\n",
       "    </tr>\n",
       "    <tr>\n",
       "      <th>Pune</th>\n",
       "      <td>1700</td>\n",
       "    </tr>\n",
       "  </tbody>\n",
       "</table>\n",
       "</div>"
      ],
      "text/plain": [
       "           price\n",
       "city            \n",
       "Ahmedabad   3500\n",
       "Bangalore   1500\n",
       "Chennai     2000\n",
       "Delhi       1200\n",
       "Hyderabad   1500\n",
       "Kolkata     1500\n",
       "Mumbai      1500\n",
       "Pune        1700"
      ]
     },
     "execution_count": 28,
     "metadata": {},
     "output_type": "execute_result"
    }
   ],
   "source": [
    "print('Minimum Price of Properties with respect to Cities')\n",
    "d1 = df.copy()\n",
    "pivot6 = d1.pivot_table(index = ['city'],\n",
    "                       values = ['price'],sort = ('city'),aggfunc = 'min'\n",
    "                       )\n",
    "pivot6"
   ]
  },
  {
   "cell_type": "code",
   "execution_count": 29,
   "id": "8c4a436b",
   "metadata": {},
   "outputs": [
    {
     "data": {
      "image/png": "[encoded data removed]",
      "text/plain": [
       "<Figure size 1080x360 with 1 Axes>"
      ]
     },
     "metadata": {},
     "output_type": "display_data"
    }
   ],
   "source": [
    "d1.groupby('city')[['price']].min().plot.bar(color='orange',figsize=(15,5))\n",
    "plt.title('Citywise minimum price of properties available for rent\\n',color='blue',fontsize=22)\n",
    "plt.xlabel('City',fontsize=18,color = 'red')\n",
    "plt.ylabel('Price',fontsize=16,color = 'red')\n",
    "plt.legend()\n",
    "plt.xticks(rotation=0,fontsize=13,color='green')\n",
    "plt.show()"
   ]
  },
  {
   "cell_type": "markdown",
   "id": "50d86174",
   "metadata": {},
   "source": [
    "### Observation :- \n",
    "* From above pivot_table and barplot we can observe that properties rates are lower in Delhi."
   ]
  },
  {
   "cell_type": "code",
   "execution_count": 30,
   "id": "df4fcd50",
   "metadata": {},
   "outputs": [
    {
     "name": "stdout",
     "output_type": "stream",
     "text": [
      "Availability of Bedrooms and Bathrooms as per Property_Types\n"
     ]
    },
    {
     "data": {
      "text/html": [
       "<div>\n",
       "<style scoped>\n",
       "    .dataframe tbody tr th:only-of-type {\n",
       "        vertical-align: middle;\n",
       "    }\n",
       "\n",
       "    .dataframe tbody tr th {\n",
       "        vertical-align: top;\n",
       "    }\n",
       "\n",
       "    .dataframe thead th {\n",
       "        text-align: right;\n",
       "    }\n",
       "</style>\n",
       "<table border=\"1\" class=\"dataframe\">\n",
       "  <thead>\n",
       "    <tr style=\"text-align: right;\">\n",
       "      <th></th>\n",
       "      <th>bathroom</th>\n",
       "      <th>bedroom</th>\n",
       "    </tr>\n",
       "    <tr>\n",
       "      <th>property_type</th>\n",
       "      <th></th>\n",
       "      <th></th>\n",
       "    </tr>\n",
       "  </thead>\n",
       "  <tbody>\n",
       "    <tr>\n",
       "      <th>Apartment</th>\n",
       "      <td>18</td>\n",
       "      <td>15</td>\n",
       "    </tr>\n",
       "    <tr>\n",
       "      <th>Independent Floor</th>\n",
       "      <td>10</td>\n",
       "      <td>12</td>\n",
       "    </tr>\n",
       "    <tr>\n",
       "      <th>Independent House</th>\n",
       "      <td>19</td>\n",
       "      <td>15</td>\n",
       "    </tr>\n",
       "    <tr>\n",
       "      <th>Penthouse</th>\n",
       "      <td>5</td>\n",
       "      <td>5</td>\n",
       "    </tr>\n",
       "    <tr>\n",
       "      <th>Studio Apartment</th>\n",
       "      <td>4</td>\n",
       "      <td>2</td>\n",
       "    </tr>\n",
       "    <tr>\n",
       "      <th>Villa</th>\n",
       "      <td>12</td>\n",
       "      <td>15</td>\n",
       "    </tr>\n",
       "  </tbody>\n",
       "</table>\n",
       "</div>"
      ],
      "text/plain": [
       "                   bathroom  bedroom\n",
       "property_type                       \n",
       "Apartment                18       15\n",
       "Independent Floor        10       12\n",
       "Independent House        19       15\n",
       "Penthouse                 5        5\n",
       "Studio Apartment          4        2\n",
       "Villa                    12       15"
      ]
     },
     "execution_count": 30,
     "metadata": {},
     "output_type": "execute_result"
    }
   ],
   "source": [
    "print('Availability of Bedrooms and Bathrooms as per Property_Types')\n",
    "d1 = df.copy()\n",
    "pivot7 = d1.pivot_table(index = ['property_type'],\n",
    "                       values = ['bedroom','bathroom'],sort = ('property_type'),aggfunc = 'max'\n",
    "                       )\n",
    "pivot7"
   ]
  },
  {
   "cell_type": "code",
   "execution_count": 31,
   "id": "0ffe3607",
   "metadata": {},
   "outputs": [
    {
     "data": {
      "image/png": "[encoded data removed]",
      "text/plain": [
       "<Figure size 1080x360 with 1 Axes>"
      ]
     },
     "metadata": {},
     "output_type": "display_data"
    }
   ],
   "source": [
    "pivot7.groupby('property_type')[['bathroom','bedroom']].max().plot.bar(color=['g','r'],figsize=(15,5),\n",
    "                                                                       label= ('bathroom','bedroom'))\n",
    "plt.title('Bathroom and Bedroom available as per Property_type\\n',fontsize = 20,color = 'red')\n",
    "plt.xlabel('Property_type',fontsize=16,color = 'blue')\n",
    "plt.ylabel('Count',fontsize = 16,color = 'blue')\n",
    "plt.xticks(rotation=0,fontsize = 13)\n",
    "plt.show()"
   ]
  },
  {
   "cell_type": "markdown",
   "id": "fdb4f92b",
   "metadata": {},
   "source": [
    "### Observation :- \n",
    "* From above pivot_table and barplot we can find the maximum number of bedrooms and bathrooms available as per the type of property."
   ]
  },
  {
   "cell_type": "code",
   "execution_count": 32,
   "id": "f08401dd",
   "metadata": {},
   "outputs": [
    {
     "name": "stdout",
     "output_type": "stream",
     "text": [
      "Area and Price of Properties according to Cities\n"
     ]
    },
    {
     "data": {
      "text/html": [
       "<div>\n",
       "<style scoped>\n",
       "    .dataframe tbody tr th:only-of-type {\n",
       "        vertical-align: middle;\n",
       "    }\n",
       "\n",
       "    .dataframe tbody tr th {\n",
       "        vertical-align: top;\n",
       "    }\n",
       "\n",
       "    .dataframe thead th {\n",
       "        text-align: right;\n",
       "    }\n",
       "</style>\n",
       "<table border=\"1\" class=\"dataframe\">\n",
       "  <thead>\n",
       "    <tr style=\"text-align: right;\">\n",
       "      <th></th>\n",
       "      <th></th>\n",
       "      <th>area</th>\n",
       "      <th>price</th>\n",
       "    </tr>\n",
       "    <tr>\n",
       "      <th>city</th>\n",
       "      <th>layout_type</th>\n",
       "      <th></th>\n",
       "      <th></th>\n",
       "    </tr>\n",
       "  </thead>\n",
       "  <tbody>\n",
       "    <tr>\n",
       "      <th rowspan=\"2\" valign=\"top\">Ahmedabad</th>\n",
       "      <th>BHK</th>\n",
       "      <td>150</td>\n",
       "      <td>3500</td>\n",
       "    </tr>\n",
       "    <tr>\n",
       "      <th>RK</th>\n",
       "      <td>150</td>\n",
       "      <td>4000</td>\n",
       "    </tr>\n",
       "    <tr>\n",
       "      <th rowspan=\"2\" valign=\"top\">Bangalore</th>\n",
       "      <th>BHK</th>\n",
       "      <td>100</td>\n",
       "      <td>1500</td>\n",
       "    </tr>\n",
       "    <tr>\n",
       "      <th>RK</th>\n",
       "      <td>150</td>\n",
       "      <td>1700</td>\n",
       "    </tr>\n",
       "    <tr>\n",
       "      <th rowspan=\"2\" valign=\"top\">Chennai</th>\n",
       "      <th>BHK</th>\n",
       "      <td>150</td>\n",
       "      <td>2900</td>\n",
       "    </tr>\n",
       "    <tr>\n",
       "      <th>RK</th>\n",
       "      <td>150</td>\n",
       "      <td>2000</td>\n",
       "    </tr>\n",
       "    <tr>\n",
       "      <th rowspan=\"2\" valign=\"top\">Delhi</th>\n",
       "      <th>BHK</th>\n",
       "      <td>100</td>\n",
       "      <td>2000</td>\n",
       "    </tr>\n",
       "    <tr>\n",
       "      <th>RK</th>\n",
       "      <td>110</td>\n",
       "      <td>1200</td>\n",
       "    </tr>\n",
       "    <tr>\n",
       "      <th rowspan=\"2\" valign=\"top\">Hyderabad</th>\n",
       "      <th>BHK</th>\n",
       "      <td>150</td>\n",
       "      <td>1500</td>\n",
       "    </tr>\n",
       "    <tr>\n",
       "      <th>RK</th>\n",
       "      <td>150</td>\n",
       "      <td>1500</td>\n",
       "    </tr>\n",
       "    <tr>\n",
       "      <th rowspan=\"2\" valign=\"top\">Kolkata</th>\n",
       "      <th>BHK</th>\n",
       "      <td>150</td>\n",
       "      <td>2000</td>\n",
       "    </tr>\n",
       "    <tr>\n",
       "      <th>RK</th>\n",
       "      <td>150</td>\n",
       "      <td>1500</td>\n",
       "    </tr>\n",
       "    <tr>\n",
       "      <th rowspan=\"2\" valign=\"top\">Mumbai</th>\n",
       "      <th>BHK</th>\n",
       "      <td>150</td>\n",
       "      <td>2000</td>\n",
       "    </tr>\n",
       "    <tr>\n",
       "      <th>RK</th>\n",
       "      <td>150</td>\n",
       "      <td>1500</td>\n",
       "    </tr>\n",
       "    <tr>\n",
       "      <th rowspan=\"2\" valign=\"top\">Pune</th>\n",
       "      <th>BHK</th>\n",
       "      <td>100</td>\n",
       "      <td>2300</td>\n",
       "    </tr>\n",
       "    <tr>\n",
       "      <th>RK</th>\n",
       "      <td>150</td>\n",
       "      <td>1700</td>\n",
       "    </tr>\n",
       "  </tbody>\n",
       "</table>\n",
       "</div>"
      ],
      "text/plain": [
       "                       area  price\n",
       "city      layout_type             \n",
       "Ahmedabad BHK           150   3500\n",
       "          RK            150   4000\n",
       "Bangalore BHK           100   1500\n",
       "          RK            150   1700\n",
       "Chennai   BHK           150   2900\n",
       "          RK            150   2000\n",
       "Delhi     BHK           100   2000\n",
       "          RK            110   1200\n",
       "Hyderabad BHK           150   1500\n",
       "          RK            150   1500\n",
       "Kolkata   BHK           150   2000\n",
       "          RK            150   1500\n",
       "Mumbai    BHK           150   2000\n",
       "          RK            150   1500\n",
       "Pune      BHK           100   2300\n",
       "          RK            150   1700"
      ]
     },
     "execution_count": 32,
     "metadata": {},
     "output_type": "execute_result"
    }
   ],
   "source": [
    "print('Area and Price of Properties according to Cities')\n",
    "pivot8 = d1.pivot_table(index = ['city','layout_type'],\n",
    "                       values = ['price','area'],sort = ('furnish_type'),aggfunc = 'min'\n",
    "                       )\n",
    "pivot8"
   ]
  },
  {
   "cell_type": "markdown",
   "id": "4fed79b4",
   "metadata": {},
   "source": [
    "### Observation :- \n",
    "* From above pivot_table we can find the minimum price, area, layout_type, and City of the available property."
   ]
  },
  {
   "cell_type": "code",
   "execution_count": 33,
   "id": "c15dd67e",
   "metadata": {},
   "outputs": [
    {
     "data": {
      "image/png": "[encoded data removed]",
      "text/plain": [
       "<Figure size 864x360 with 1 Axes>"
      ]
     },
     "metadata": {},
     "output_type": "display_data"
    }
   ],
   "source": [
    "fig = plt.subplots(figsize=(12, 5))\n",
    "sns.boxplot(df.bedroom,df.bathroom)\n",
    "plt.title('Bedroom and per Bathroom',fontsize = 20,color = 'purple')\n",
    "plt.xlabel('Bedroom',fontsize = 16,color = 'blue')\n",
    "plt.ylabel('Bathroom',fontsize = 16,color = 'blue')\n",
    "plt.show()"
   ]
  },
  {
   "cell_type": "markdown",
   "id": "3b401c1c",
   "metadata": {},
   "source": [
    "### Observation :- \n",
    "* The above boxplot shows the relation between of Bedroom and Bathroom.\n",
    "    - We can say that there are some exceptional properties which are having more number of bathrooms available as per rooms as compared to average number."
   ]
  },
  {
   "cell_type": "code",
   "execution_count": 34,
   "id": "ef349bd9",
   "metadata": {},
   "outputs": [
    {
     "data": {
      "image/png": "[encoded data removed]",
      "text/plain": [
       "<Figure size 864x360 with 1 Axes>"
      ]
     },
     "metadata": {},
     "output_type": "display_data"
    }
   ],
   "source": [
    "fig = plt.subplots(figsize=(12, 5))\n",
    "sns.scatterplot(df.bedroom,df.bathroom,hue=df.bedroom,palette = 'bright')\n",
    "plt.title('Relationship between Bedroom and Bathroom available',fontsize = 20,color = 'purple')\n",
    "plt.xlabel('Bedroom',fontsize = 16,color = 'red')\n",
    "plt.ylabel('Bathroom',fontsize = 16,color = 'red')\n",
    "plt.show()"
   ]
  },
  {
   "cell_type": "markdown",
   "id": "a9bbb265",
   "metadata": {},
   "source": [
    "### Observation :- \n",
    "* The above scatter plot shows the relationship between the features Bedroom and Bathroom.\n",
    "    - We can say that as the number of bedrooms increases, there is an increase in the number of bathrooms also."
   ]
  },
  {
   "cell_type": "code",
   "execution_count": 38,
   "id": "6553d2b8",
   "metadata": {},
   "outputs": [
    {
     "data": {
      "image/png": "[encoded data removed]",
      "text/plain": [
       "<Figure size 819.225x360 with 2 Axes>"
      ]
     },
     "metadata": {},
     "output_type": "display_data"
    }
   ],
   "source": [
    "sns.relplot(df.price,df.area,col = df.layout_type,hue = df.city,label=('city'),palette = 'inferno_r')\n",
    "plt.title('Relationship between Price and Area of Properties as per Layout_Type\\n',fontsize= 20,color = 'blue')\n",
    "plt.legend()\n",
    "plt.show()"
   ]
  },
  {
   "cell_type": "markdown",
   "id": "5c59cbc4",
   "metadata": {},
   "source": [
    "### Observation :- \n",
    "* The above relplot shows the relationship between the features Price and Area as per Layout_type.\n",
    "    - We can say that maximum number of properties are available as BHK layout_type, and present in Pune and Mumbai location."
   ]
  },
  {
   "cell_type": "code",
   "execution_count": 39,
   "id": "de9502bc",
   "metadata": {},
   "outputs": [
    {
     "data": {
      "image/png": "[encoded data removed]",
      "text/plain": [
       "<Figure size 864x360 with 1 Axes>"
      ]
     },
     "metadata": {},
     "output_type": "display_data"
    }
   ],
   "source": [
    "fig = plt.subplots(figsize=(12, 5))\n",
    "sns.kdeplot(df.area,color='green',shade=True)\n",
    "plt.title('Kernel Distribution of Area of Properties',fontsize = 20,color = 'green')\n",
    "plt.xlabel('Area',fontsize = 16,color = 'red')\n",
    "plt.ylabel('Density',fontsize = 16,color = 'red')\n",
    "plt.show()"
   ]
  },
  {
   "cell_type": "markdown",
   "id": "06f0dace",
   "metadata": {},
   "source": [
    "### Observation :\n",
    "* From the above Univariate Kernal Distribution Estimation(KDE) graph we can say that maximum properties comes with an area under 2500 sqft."
   ]
  },
  {
   "cell_type": "code",
   "execution_count": 40,
   "id": "47053c94",
   "metadata": {},
   "outputs": [
    {
     "data": {
      "image/png": "[encoded data removed]",
      "text/plain": [
       "<Figure size 720x360 with 1 Axes>"
      ]
     },
     "metadata": {},
     "output_type": "display_data"
    }
   ],
   "source": [
    "fig = plt.subplots(figsize=(10, 5))\n",
    "sns.lineplot('bedroom','bathroom',data=df,color='r',label='Bathroom')\n",
    "plt.title('Bathrooms available as per Bedrooms\\n',fontsize=20,color = 'Blue')\n",
    "plt.xlabel('Bedroom',fontsize=16,color='red')\n",
    "plt.ylabel('Bathroom',fontsize=16,color='red')\n",
    "plt.legend()\n",
    "plt.show()"
   ]
  },
  {
   "cell_type": "markdown",
   "id": "67fe354c",
   "metadata": {},
   "source": [
    "### Observation :\n",
    "* In the above line graph we can see the change in availability of Bathrooms as per the increase in number of Bedrooms."
   ]
  },
  {
   "cell_type": "code",
   "execution_count": 41,
   "id": "41a83e16",
   "metadata": {},
   "outputs": [
    {
     "data": {
      "image/png": "[encoded data removed]",
      "text/plain": [
       "<Figure size 720x360 with 1 Axes>"
      ]
     },
     "metadata": {},
     "output_type": "display_data"
    }
   ],
   "source": [
    "fig = plt.subplots(figsize=(10, 5))\n",
    "sns.lineplot('bedroom','area',data=df,color='purple',label='Bedroom')\n",
    "plt.title('Bedrooms available as per Area of Property\\n',fontsize=20,color = 'Blue')\n",
    "plt.xlabel('Bedroom',fontsize=16,color='red')\n",
    "plt.ylabel('Area',fontsize=16,color='red')\n",
    "plt.legend()\n",
    "plt.show()"
   ]
  },
  {
   "cell_type": "markdown",
   "id": "16a79ff5",
   "metadata": {},
   "source": [
    "### Observation :\n",
    "* In the above line graph we can see the change in availability of Bedrooms as per the increase in the Area of the property."
   ]
  },
  {
   "cell_type": "code",
   "execution_count": 42,
   "id": "758a6b29",
   "metadata": {},
   "outputs": [
    {
     "data": {
      "text/html": [
       "<div>\n",
       "<style scoped>\n",
       "    .dataframe tbody tr th:only-of-type {\n",
       "        vertical-align: middle;\n",
       "    }\n",
       "\n",
       "    .dataframe tbody tr th {\n",
       "        vertical-align: top;\n",
       "    }\n",
       "\n",
       "    .dataframe thead th {\n",
       "        text-align: right;\n",
       "    }\n",
       "</style>\n",
       "<table border=\"1\" class=\"dataframe\">\n",
       "  <thead>\n",
       "    <tr style=\"text-align: right;\">\n",
       "      <th></th>\n",
       "      <th>bedroom</th>\n",
       "      <th>bathroom</th>\n",
       "      <th>area</th>\n",
       "      <th>price</th>\n",
       "    </tr>\n",
       "  </thead>\n",
       "  <tbody>\n",
       "    <tr>\n",
       "      <th>bedroom</th>\n",
       "      <td>1.000000</td>\n",
       "      <td>0.875798</td>\n",
       "      <td>0.787947</td>\n",
       "      <td>0.526540</td>\n",
       "    </tr>\n",
       "    <tr>\n",
       "      <th>bathroom</th>\n",
       "      <td>0.875798</td>\n",
       "      <td>1.000000</td>\n",
       "      <td>0.778284</td>\n",
       "      <td>0.534605</td>\n",
       "    </tr>\n",
       "    <tr>\n",
       "      <th>area</th>\n",
       "      <td>0.787947</td>\n",
       "      <td>0.778284</td>\n",
       "      <td>1.000000</td>\n",
       "      <td>0.756774</td>\n",
       "    </tr>\n",
       "    <tr>\n",
       "      <th>price</th>\n",
       "      <td>0.526540</td>\n",
       "      <td>0.534605</td>\n",
       "      <td>0.756774</td>\n",
       "      <td>1.000000</td>\n",
       "    </tr>\n",
       "  </tbody>\n",
       "</table>\n",
       "</div>"
      ],
      "text/plain": [
       "           bedroom  bathroom      area     price\n",
       "bedroom   1.000000  0.875798  0.787947  0.526540\n",
       "bathroom  0.875798  1.000000  0.778284  0.534605\n",
       "area      0.787947  0.778284  1.000000  0.756774\n",
       "price     0.526540  0.534605  0.756774  1.000000"
      ]
     },
     "execution_count": 42,
     "metadata": {},
     "output_type": "execute_result"
    }
   ],
   "source": [
    "cor = df.drop(['count'],axis=1)\n",
    "cor.corr()"
   ]
  },
  {
   "cell_type": "code",
   "execution_count": 43,
   "id": "0a11e61f",
   "metadata": {},
   "outputs": [
    {
     "data": {
      "image/png": "[encoded data removed]",
      "text/plain": [
       "<Figure size 504x360 with 2 Axes>"
      ]
     },
     "metadata": {},
     "output_type": "display_data"
    }
   ],
   "source": [
    "fig = plt.subplots(figsize=(7, 5))\n",
    "sns.heatmap(cor.corr(),annot = True)\n",
    "plt.title('Correlation Between each features of the DataSet\\n',fontsize = 20,color = 'Green')\n",
    "plt.show()"
   ]
  },
  {
   "cell_type": "markdown",
   "id": "9d78307d",
   "metadata": {},
   "source": [
    "### Observation :\n",
    "* The Heatmap shows that 'bedroom' and 'bathroom' features are highly correlated to each other."
   ]
  },
  {
   "cell_type": "markdown",
   "id": "75859fd0",
   "metadata": {},
   "source": [
    "### Implementing Machine Learning Algorithm"
   ]
  },
  {
   "cell_type": "markdown",
   "id": "3c4fddca",
   "metadata": {},
   "source": [
    "### Print the dataset"
   ]
  },
  {
   "cell_type": "code",
   "execution_count": 44,
   "id": "9f19ced2",
   "metadata": {},
   "outputs": [
    {
     "data": {
      "text/html": [
       "<div>\n",
       "<style scoped>\n",
       "    .dataframe tbody tr th:only-of-type {\n",
       "        vertical-align: middle;\n",
       "    }\n",
       "\n",
       "    .dataframe tbody tr th {\n",
       "        vertical-align: top;\n",
       "    }\n",
       "\n",
       "    .dataframe thead th {\n",
       "        text-align: right;\n",
       "    }\n",
       "</style>\n",
       "<table border=\"1\" class=\"dataframe\">\n",
       "  <thead>\n",
       "    <tr style=\"text-align: right;\">\n",
       "      <th></th>\n",
       "      <th>seller_type</th>\n",
       "      <th>layout_type</th>\n",
       "      <th>property_type</th>\n",
       "      <th>furnish_type</th>\n",
       "      <th>bedroom</th>\n",
       "      <th>bathroom</th>\n",
       "      <th>city</th>\n",
       "      <th>area</th>\n",
       "      <th>price</th>\n",
       "      <th>count</th>\n",
       "    </tr>\n",
       "  </thead>\n",
       "  <tbody>\n",
       "    <tr>\n",
       "      <th>0</th>\n",
       "      <td>OWNER</td>\n",
       "      <td>BHK</td>\n",
       "      <td>Apartment</td>\n",
       "      <td>Furnished</td>\n",
       "      <td>2</td>\n",
       "      <td>2</td>\n",
       "      <td>Ahmedabad</td>\n",
       "      <td>1450</td>\n",
       "      <td>20000</td>\n",
       "      <td>1</td>\n",
       "    </tr>\n",
       "    <tr>\n",
       "      <th>1</th>\n",
       "      <td>OWNER</td>\n",
       "      <td>RK</td>\n",
       "      <td>Studio Apartment</td>\n",
       "      <td>Semi-Furnished</td>\n",
       "      <td>1</td>\n",
       "      <td>1</td>\n",
       "      <td>Ahmedabad</td>\n",
       "      <td>210</td>\n",
       "      <td>7350</td>\n",
       "      <td>1</td>\n",
       "    </tr>\n",
       "    <tr>\n",
       "      <th>2</th>\n",
       "      <td>OWNER</td>\n",
       "      <td>BHK</td>\n",
       "      <td>Apartment</td>\n",
       "      <td>Unfurnished</td>\n",
       "      <td>3</td>\n",
       "      <td>3</td>\n",
       "      <td>Ahmedabad</td>\n",
       "      <td>1900</td>\n",
       "      <td>22000</td>\n",
       "      <td>1</td>\n",
       "    </tr>\n",
       "    <tr>\n",
       "      <th>3</th>\n",
       "      <td>OWNER</td>\n",
       "      <td>BHK</td>\n",
       "      <td>Independent House</td>\n",
       "      <td>Semi-Furnished</td>\n",
       "      <td>2</td>\n",
       "      <td>2</td>\n",
       "      <td>Ahmedabad</td>\n",
       "      <td>1285</td>\n",
       "      <td>13000</td>\n",
       "      <td>1</td>\n",
       "    </tr>\n",
       "    <tr>\n",
       "      <th>4</th>\n",
       "      <td>OWNER</td>\n",
       "      <td>BHK</td>\n",
       "      <td>Independent House</td>\n",
       "      <td>Furnished</td>\n",
       "      <td>2</td>\n",
       "      <td>2</td>\n",
       "      <td>Ahmedabad</td>\n",
       "      <td>1600</td>\n",
       "      <td>18000</td>\n",
       "      <td>1</td>\n",
       "    </tr>\n",
       "    <tr>\n",
       "      <th>...</th>\n",
       "      <td>...</td>\n",
       "      <td>...</td>\n",
       "      <td>...</td>\n",
       "      <td>...</td>\n",
       "      <td>...</td>\n",
       "      <td>...</td>\n",
       "      <td>...</td>\n",
       "      <td>...</td>\n",
       "      <td>...</td>\n",
       "      <td>...</td>\n",
       "    </tr>\n",
       "    <tr>\n",
       "      <th>193006</th>\n",
       "      <td>OWNER</td>\n",
       "      <td>BHK</td>\n",
       "      <td>Apartment</td>\n",
       "      <td>Semi-Furnished</td>\n",
       "      <td>1</td>\n",
       "      <td>1</td>\n",
       "      <td>Pune</td>\n",
       "      <td>650</td>\n",
       "      <td>13250</td>\n",
       "      <td>1</td>\n",
       "    </tr>\n",
       "    <tr>\n",
       "      <th>193007</th>\n",
       "      <td>OWNER</td>\n",
       "      <td>RK</td>\n",
       "      <td>Studio Apartment</td>\n",
       "      <td>Unfurnished</td>\n",
       "      <td>1</td>\n",
       "      <td>1</td>\n",
       "      <td>Pune</td>\n",
       "      <td>350</td>\n",
       "      <td>7000</td>\n",
       "      <td>1</td>\n",
       "    </tr>\n",
       "    <tr>\n",
       "      <th>193008</th>\n",
       "      <td>OWNER</td>\n",
       "      <td>BHK</td>\n",
       "      <td>Apartment</td>\n",
       "      <td>Semi-Furnished</td>\n",
       "      <td>1</td>\n",
       "      <td>1</td>\n",
       "      <td>Pune</td>\n",
       "      <td>389</td>\n",
       "      <td>8500</td>\n",
       "      <td>1</td>\n",
       "    </tr>\n",
       "    <tr>\n",
       "      <th>193009</th>\n",
       "      <td>AGENT</td>\n",
       "      <td>BHK</td>\n",
       "      <td>Apartment</td>\n",
       "      <td>Semi-Furnished</td>\n",
       "      <td>1</td>\n",
       "      <td>2</td>\n",
       "      <td>Pune</td>\n",
       "      <td>670</td>\n",
       "      <td>16500</td>\n",
       "      <td>1</td>\n",
       "    </tr>\n",
       "    <tr>\n",
       "      <th>193010</th>\n",
       "      <td>AGENT</td>\n",
       "      <td>BHK</td>\n",
       "      <td>Apartment</td>\n",
       "      <td>Unfurnished</td>\n",
       "      <td>2</td>\n",
       "      <td>2</td>\n",
       "      <td>Pune</td>\n",
       "      <td>800</td>\n",
       "      <td>12000</td>\n",
       "      <td>1</td>\n",
       "    </tr>\n",
       "  </tbody>\n",
       "</table>\n",
       "<p>193011 rows × 10 columns</p>\n",
       "</div>"
      ],
      "text/plain": [
       "       seller_type layout_type      property_type    furnish_type  bedroom  \\\n",
       "0            OWNER         BHK          Apartment       Furnished        2   \n",
       "1            OWNER          RK   Studio Apartment  Semi-Furnished        1   \n",
       "2            OWNER         BHK          Apartment     Unfurnished        3   \n",
       "3            OWNER         BHK  Independent House  Semi-Furnished        2   \n",
       "4            OWNER         BHK  Independent House       Furnished        2   \n",
       "...            ...         ...                ...             ...      ...   \n",
       "193006       OWNER         BHK          Apartment  Semi-Furnished        1   \n",
       "193007       OWNER          RK   Studio Apartment     Unfurnished        1   \n",
       "193008       OWNER         BHK          Apartment  Semi-Furnished        1   \n",
       "193009       AGENT         BHK          Apartment  Semi-Furnished        1   \n",
       "193010       AGENT         BHK          Apartment     Unfurnished        2   \n",
       "\n",
       "        bathroom       city  area  price  count  \n",
       "0              2  Ahmedabad  1450  20000      1  \n",
       "1              1  Ahmedabad   210   7350      1  \n",
       "2              3  Ahmedabad  1900  22000      1  \n",
       "3              2  Ahmedabad  1285  13000      1  \n",
       "4              2  Ahmedabad  1600  18000      1  \n",
       "...          ...        ...   ...    ...    ...  \n",
       "193006         1       Pune   650  13250      1  \n",
       "193007         1       Pune   350   7000      1  \n",
       "193008         1       Pune   389   8500      1  \n",
       "193009         2       Pune   670  16500      1  \n",
       "193010         2       Pune   800  12000      1  \n",
       "\n",
       "[193011 rows x 10 columns]"
      ]
     },
     "execution_count": 44,
     "metadata": {},
     "output_type": "execute_result"
    }
   ],
   "source": [
    "df"
   ]
  },
  {
   "cell_type": "markdown",
   "id": "bcd00efe",
   "metadata": {},
   "source": [
    "### Print the datatypes of all the features"
   ]
  },
  {
   "cell_type": "code",
   "execution_count": 45,
   "id": "49b1b629",
   "metadata": {},
   "outputs": [
    {
     "data": {
      "text/plain": [
       "seller_type      object\n",
       "layout_type      object\n",
       "property_type    object\n",
       "furnish_type     object\n",
       "bedroom           int64\n",
       "bathroom          int64\n",
       "city             object\n",
       "area              int64\n",
       "price             int64\n",
       "count             int64\n",
       "dtype: object"
      ]
     },
     "execution_count": 45,
     "metadata": {},
     "output_type": "execute_result"
    }
   ],
   "source": [
    "df.dtypes"
   ]
  },
  {
   "cell_type": "markdown",
   "id": "4b8b7e25",
   "metadata": {},
   "source": [
    "### Replacing Categorical values to Numeric values"
   ]
  },
  {
   "cell_type": "code",
   "execution_count": 46,
   "id": "1921ea6b",
   "metadata": {},
   "outputs": [
    {
     "data": {
      "text/plain": [
       "AGENT      152951\n",
       "OWNER       38714\n",
       "BUILDER      1346\n",
       "Name: seller_type, dtype: int64"
      ]
     },
     "execution_count": 46,
     "metadata": {},
     "output_type": "execute_result"
    }
   ],
   "source": [
    "df.seller_type.value_counts()"
   ]
  },
  {
   "cell_type": "code",
   "execution_count": 47,
   "id": "fd0e9e77",
   "metadata": {},
   "outputs": [],
   "source": [
    "df.seller_type.replace({'AGENT':0,'OWNER':1,'BUILDER':2},inplace = True)"
   ]
  },
  {
   "cell_type": "code",
   "execution_count": 48,
   "id": "f5d7f431",
   "metadata": {},
   "outputs": [
    {
     "data": {
      "text/plain": [
       "BHK    183748\n",
       "RK       9263\n",
       "Name: layout_type, dtype: int64"
      ]
     },
     "execution_count": 48,
     "metadata": {},
     "output_type": "execute_result"
    }
   ],
   "source": [
    "df.layout_type.value_counts()"
   ]
  },
  {
   "cell_type": "code",
   "execution_count": 49,
   "id": "7154e94d",
   "metadata": {},
   "outputs": [],
   "source": [
    "df.layout_type.replace({'BHK':0,'RK':1},inplace = True)"
   ]
  },
  {
   "cell_type": "code",
   "execution_count": 50,
   "id": "a2d3ccd6",
   "metadata": {},
   "outputs": [
    {
     "data": {
      "text/plain": [
       "Apartment            140356\n",
       "Independent Floor     27283\n",
       "Independent House     12838\n",
       "Studio Apartment       9263\n",
       "Villa                  3115\n",
       "Penthouse               156\n",
       "Name: property_type, dtype: int64"
      ]
     },
     "execution_count": 50,
     "metadata": {},
     "output_type": "execute_result"
    }
   ],
   "source": [
    "df.property_type.value_counts()"
   ]
  },
  {
   "cell_type": "code",
   "execution_count": 51,
   "id": "e585e32a",
   "metadata": {},
   "outputs": [],
   "source": [
    "df.property_type.replace({'Apartment':0,'Independent Floor':1,'Independent House':2,'Studio Apartment':3,'Villa':4,'Penthouse':5},inplace = True)"
   ]
  },
  {
   "cell_type": "code",
   "execution_count": 52,
   "id": "2741975d",
   "metadata": {},
   "outputs": [
    {
     "data": {
      "text/html": [
       "<div>\n",
       "<style scoped>\n",
       "    .dataframe tbody tr th:only-of-type {\n",
       "        vertical-align: middle;\n",
       "    }\n",
       "\n",
       "    .dataframe tbody tr th {\n",
       "        vertical-align: top;\n",
       "    }\n",
       "\n",
       "    .dataframe thead th {\n",
       "        text-align: right;\n",
       "    }\n",
       "</style>\n",
       "<table border=\"1\" class=\"dataframe\">\n",
       "  <thead>\n",
       "    <tr style=\"text-align: right;\">\n",
       "      <th></th>\n",
       "      <th>seller_type</th>\n",
       "      <th>layout_type</th>\n",
       "      <th>property_type</th>\n",
       "      <th>furnish_type</th>\n",
       "      <th>bedroom</th>\n",
       "      <th>bathroom</th>\n",
       "      <th>city</th>\n",
       "      <th>area</th>\n",
       "      <th>price</th>\n",
       "      <th>count</th>\n",
       "    </tr>\n",
       "  </thead>\n",
       "  <tbody>\n",
       "    <tr>\n",
       "      <th>186107</th>\n",
       "      <td>0</td>\n",
       "      <td>0</td>\n",
       "      <td>0</td>\n",
       "      <td>Semi-Furnished</td>\n",
       "      <td>1</td>\n",
       "      <td>1</td>\n",
       "      <td>Pune</td>\n",
       "      <td>100</td>\n",
       "      <td>15000</td>\n",
       "      <td>1</td>\n",
       "    </tr>\n",
       "    <tr>\n",
       "      <th>186106</th>\n",
       "      <td>0</td>\n",
       "      <td>0</td>\n",
       "      <td>0</td>\n",
       "      <td>Semi-Furnished</td>\n",
       "      <td>1</td>\n",
       "      <td>1</td>\n",
       "      <td>Pune</td>\n",
       "      <td>100</td>\n",
       "      <td>15000</td>\n",
       "      <td>1</td>\n",
       "    </tr>\n",
       "    <tr>\n",
       "      <th>75692</th>\n",
       "      <td>0</td>\n",
       "      <td>0</td>\n",
       "      <td>2</td>\n",
       "      <td>Furnished</td>\n",
       "      <td>1</td>\n",
       "      <td>1</td>\n",
       "      <td>Delhi</td>\n",
       "      <td>100</td>\n",
       "      <td>11000</td>\n",
       "      <td>1</td>\n",
       "    </tr>\n",
       "    <tr>\n",
       "      <th>75691</th>\n",
       "      <td>0</td>\n",
       "      <td>0</td>\n",
       "      <td>2</td>\n",
       "      <td>Furnished</td>\n",
       "      <td>1</td>\n",
       "      <td>1</td>\n",
       "      <td>Delhi</td>\n",
       "      <td>100</td>\n",
       "      <td>11000</td>\n",
       "      <td>1</td>\n",
       "    </tr>\n",
       "    <tr>\n",
       "      <th>75690</th>\n",
       "      <td>0</td>\n",
       "      <td>0</td>\n",
       "      <td>2</td>\n",
       "      <td>Furnished</td>\n",
       "      <td>1</td>\n",
       "      <td>1</td>\n",
       "      <td>Delhi</td>\n",
       "      <td>100</td>\n",
       "      <td>10000</td>\n",
       "      <td>1</td>\n",
       "    </tr>\n",
       "    <tr>\n",
       "      <th>...</th>\n",
       "      <td>...</td>\n",
       "      <td>...</td>\n",
       "      <td>...</td>\n",
       "      <td>...</td>\n",
       "      <td>...</td>\n",
       "      <td>...</td>\n",
       "      <td>...</td>\n",
       "      <td>...</td>\n",
       "      <td>...</td>\n",
       "      <td>...</td>\n",
       "    </tr>\n",
       "    <tr>\n",
       "      <th>72080</th>\n",
       "      <td>0</td>\n",
       "      <td>0</td>\n",
       "      <td>4</td>\n",
       "      <td>Unfurnished</td>\n",
       "      <td>15</td>\n",
       "      <td>5</td>\n",
       "      <td>Delhi</td>\n",
       "      <td>17211</td>\n",
       "      <td>4129000</td>\n",
       "      <td>1</td>\n",
       "    </tr>\n",
       "    <tr>\n",
       "      <th>71390</th>\n",
       "      <td>0</td>\n",
       "      <td>0</td>\n",
       "      <td>4</td>\n",
       "      <td>Unfurnished</td>\n",
       "      <td>15</td>\n",
       "      <td>5</td>\n",
       "      <td>Delhi</td>\n",
       "      <td>18521</td>\n",
       "      <td>3624000</td>\n",
       "      <td>1</td>\n",
       "    </tr>\n",
       "    <tr>\n",
       "      <th>71369</th>\n",
       "      <td>0</td>\n",
       "      <td>0</td>\n",
       "      <td>2</td>\n",
       "      <td>Unfurnished</td>\n",
       "      <td>14</td>\n",
       "      <td>14</td>\n",
       "      <td>Delhi</td>\n",
       "      <td>18541</td>\n",
       "      <td>1741000</td>\n",
       "      <td>1</td>\n",
       "    </tr>\n",
       "    <tr>\n",
       "      <th>71207</th>\n",
       "      <td>0</td>\n",
       "      <td>0</td>\n",
       "      <td>2</td>\n",
       "      <td>Unfurnished</td>\n",
       "      <td>14</td>\n",
       "      <td>14</td>\n",
       "      <td>Delhi</td>\n",
       "      <td>18541</td>\n",
       "      <td>1741000</td>\n",
       "      <td>1</td>\n",
       "    </tr>\n",
       "    <tr>\n",
       "      <th>79878</th>\n",
       "      <td>0</td>\n",
       "      <td>0</td>\n",
       "      <td>4</td>\n",
       "      <td>Semi-Furnished</td>\n",
       "      <td>12</td>\n",
       "      <td>12</td>\n",
       "      <td>Delhi</td>\n",
       "      <td>19800</td>\n",
       "      <td>3500000</td>\n",
       "      <td>1</td>\n",
       "    </tr>\n",
       "  </tbody>\n",
       "</table>\n",
       "<p>193011 rows × 10 columns</p>\n",
       "</div>"
      ],
      "text/plain": [
       "        seller_type  layout_type  property_type    furnish_type  bedroom  \\\n",
       "186107            0            0              0  Semi-Furnished        1   \n",
       "186106            0            0              0  Semi-Furnished        1   \n",
       "75692             0            0              2       Furnished        1   \n",
       "75691             0            0              2       Furnished        1   \n",
       "75690             0            0              2       Furnished        1   \n",
       "...             ...          ...            ...             ...      ...   \n",
       "72080             0            0              4     Unfurnished       15   \n",
       "71390             0            0              4     Unfurnished       15   \n",
       "71369             0            0              2     Unfurnished       14   \n",
       "71207             0            0              2     Unfurnished       14   \n",
       "79878             0            0              4  Semi-Furnished       12   \n",
       "\n",
       "        bathroom   city   area    price  count  \n",
       "186107         1   Pune    100    15000      1  \n",
       "186106         1   Pune    100    15000      1  \n",
       "75692          1  Delhi    100    11000      1  \n",
       "75691          1  Delhi    100    11000      1  \n",
       "75690          1  Delhi    100    10000      1  \n",
       "...          ...    ...    ...      ...    ...  \n",
       "72080          5  Delhi  17211  4129000      1  \n",
       "71390          5  Delhi  18521  3624000      1  \n",
       "71369         14  Delhi  18541  1741000      1  \n",
       "71207         14  Delhi  18541  1741000      1  \n",
       "79878         12  Delhi  19800  3500000      1  \n",
       "\n",
       "[193011 rows x 10 columns]"
      ]
     },
     "execution_count": 52,
     "metadata": {},
     "output_type": "execute_result"
    }
   ],
   "source": [
    "df.sort_values('area')"
   ]
  },
  {
   "cell_type": "code",
   "execution_count": 53,
   "id": "cba6b70d",
   "metadata": {},
   "outputs": [],
   "source": [
    "def ar(x):\n",
    "    if 0 <= x < 1000:\n",
    "        return 0\n",
    "    elif 1000 <= x < 10000:\n",
    "        return 1\n",
    "    else :\n",
    "        return 2"
   ]
  },
  {
   "cell_type": "code",
   "execution_count": 54,
   "id": "a98d55aa",
   "metadata": {},
   "outputs": [],
   "source": [
    "df.area = df.area.apply(ar)"
   ]
  },
  {
   "cell_type": "code",
   "execution_count": 55,
   "id": "6f33d17c",
   "metadata": {},
   "outputs": [
    {
     "data": {
      "text/plain": [
       "Semi-Furnished    95726\n",
       "Unfurnished       58696\n",
       "Furnished         38589\n",
       "Name: furnish_type, dtype: int64"
      ]
     },
     "execution_count": 55,
     "metadata": {},
     "output_type": "execute_result"
    }
   ],
   "source": [
    "df.furnish_type.value_counts()"
   ]
  },
  {
   "cell_type": "code",
   "execution_count": 56,
   "id": "7f1ee986",
   "metadata": {},
   "outputs": [],
   "source": [
    "df.furnish_type.replace({'Semi-Furnished':0,'Unfurnished':1,'Furnished':2},inplace = True)"
   ]
  },
  {
   "cell_type": "code",
   "execution_count": 57,
   "id": "9a5ee542",
   "metadata": {},
   "outputs": [
    {
     "data": {
      "text/plain": [
       "Mumbai       67416\n",
       "Delhi        32608\n",
       "Bangalore    23072\n",
       "Pune         22596\n",
       "Ahmedabad    18453\n",
       "Hyderabad    10544\n",
       "Kolkata       9664\n",
       "Chennai       8658\n",
       "Name: city, dtype: int64"
      ]
     },
     "execution_count": 57,
     "metadata": {},
     "output_type": "execute_result"
    }
   ],
   "source": [
    "df.city.value_counts()"
   ]
  },
  {
   "cell_type": "code",
   "execution_count": 58,
   "id": "5e61184f",
   "metadata": {},
   "outputs": [],
   "source": [
    "df.city.replace({'Mumbai':0,'Delhi':1,'Bangalore':2,'Pune':3,'Ahmedabad':4,'Hyderabad':5,'Kolkata':6,'Chennai':7},inplace = True)"
   ]
  },
  {
   "cell_type": "code",
   "execution_count": 59,
   "id": "52a4d9fb",
   "metadata": {},
   "outputs": [
    {
     "data": {
      "text/html": [
       "<div>\n",
       "<style scoped>\n",
       "    .dataframe tbody tr th:only-of-type {\n",
       "        vertical-align: middle;\n",
       "    }\n",
       "\n",
       "    .dataframe tbody tr th {\n",
       "        vertical-align: top;\n",
       "    }\n",
       "\n",
       "    .dataframe thead th {\n",
       "        text-align: right;\n",
       "    }\n",
       "</style>\n",
       "<table border=\"1\" class=\"dataframe\">\n",
       "  <thead>\n",
       "    <tr style=\"text-align: right;\">\n",
       "      <th></th>\n",
       "      <th>seller_type</th>\n",
       "      <th>layout_type</th>\n",
       "      <th>property_type</th>\n",
       "      <th>furnish_type</th>\n",
       "      <th>bedroom</th>\n",
       "      <th>bathroom</th>\n",
       "      <th>city</th>\n",
       "      <th>area</th>\n",
       "      <th>price</th>\n",
       "      <th>count</th>\n",
       "    </tr>\n",
       "  </thead>\n",
       "  <tbody>\n",
       "    <tr>\n",
       "      <th>76772</th>\n",
       "      <td>0</td>\n",
       "      <td>1</td>\n",
       "      <td>3</td>\n",
       "      <td>2</td>\n",
       "      <td>1</td>\n",
       "      <td>1</td>\n",
       "      <td>1</td>\n",
       "      <td>0</td>\n",
       "      <td>1200</td>\n",
       "      <td>1</td>\n",
       "    </tr>\n",
       "    <tr>\n",
       "      <th>99651</th>\n",
       "      <td>1</td>\n",
       "      <td>1</td>\n",
       "      <td>3</td>\n",
       "      <td>1</td>\n",
       "      <td>1</td>\n",
       "      <td>1</td>\n",
       "      <td>6</td>\n",
       "      <td>0</td>\n",
       "      <td>1500</td>\n",
       "      <td>1</td>\n",
       "    </tr>\n",
       "    <tr>\n",
       "      <th>161394</th>\n",
       "      <td>1</td>\n",
       "      <td>1</td>\n",
       "      <td>3</td>\n",
       "      <td>0</td>\n",
       "      <td>1</td>\n",
       "      <td>1</td>\n",
       "      <td>0</td>\n",
       "      <td>0</td>\n",
       "      <td>1500</td>\n",
       "      <td>1</td>\n",
       "    </tr>\n",
       "    <tr>\n",
       "      <th>161416</th>\n",
       "      <td>1</td>\n",
       "      <td>1</td>\n",
       "      <td>3</td>\n",
       "      <td>0</td>\n",
       "      <td>1</td>\n",
       "      <td>1</td>\n",
       "      <td>0</td>\n",
       "      <td>0</td>\n",
       "      <td>1500</td>\n",
       "      <td>1</td>\n",
       "    </tr>\n",
       "    <tr>\n",
       "      <th>92703</th>\n",
       "      <td>1</td>\n",
       "      <td>0</td>\n",
       "      <td>1</td>\n",
       "      <td>1</td>\n",
       "      <td>1</td>\n",
       "      <td>1</td>\n",
       "      <td>5</td>\n",
       "      <td>0</td>\n",
       "      <td>1500</td>\n",
       "      <td>1</td>\n",
       "    </tr>\n",
       "    <tr>\n",
       "      <th>...</th>\n",
       "      <td>...</td>\n",
       "      <td>...</td>\n",
       "      <td>...</td>\n",
       "      <td>...</td>\n",
       "      <td>...</td>\n",
       "      <td>...</td>\n",
       "      <td>...</td>\n",
       "      <td>...</td>\n",
       "      <td>...</td>\n",
       "      <td>...</td>\n",
       "    </tr>\n",
       "    <tr>\n",
       "      <th>72312</th>\n",
       "      <td>0</td>\n",
       "      <td>0</td>\n",
       "      <td>4</td>\n",
       "      <td>1</td>\n",
       "      <td>8</td>\n",
       "      <td>8</td>\n",
       "      <td>1</td>\n",
       "      <td>2</td>\n",
       "      <td>4010000</td>\n",
       "      <td>1</td>\n",
       "    </tr>\n",
       "    <tr>\n",
       "      <th>72922</th>\n",
       "      <td>0</td>\n",
       "      <td>0</td>\n",
       "      <td>4</td>\n",
       "      <td>1</td>\n",
       "      <td>15</td>\n",
       "      <td>5</td>\n",
       "      <td>1</td>\n",
       "      <td>2</td>\n",
       "      <td>4011000</td>\n",
       "      <td>1</td>\n",
       "    </tr>\n",
       "    <tr>\n",
       "      <th>72072</th>\n",
       "      <td>0</td>\n",
       "      <td>0</td>\n",
       "      <td>4</td>\n",
       "      <td>1</td>\n",
       "      <td>15</td>\n",
       "      <td>5</td>\n",
       "      <td>1</td>\n",
       "      <td>2</td>\n",
       "      <td>4129000</td>\n",
       "      <td>1</td>\n",
       "    </tr>\n",
       "    <tr>\n",
       "      <th>72080</th>\n",
       "      <td>0</td>\n",
       "      <td>0</td>\n",
       "      <td>4</td>\n",
       "      <td>1</td>\n",
       "      <td>15</td>\n",
       "      <td>5</td>\n",
       "      <td>1</td>\n",
       "      <td>2</td>\n",
       "      <td>4129000</td>\n",
       "      <td>1</td>\n",
       "    </tr>\n",
       "    <tr>\n",
       "      <th>70682</th>\n",
       "      <td>0</td>\n",
       "      <td>0</td>\n",
       "      <td>2</td>\n",
       "      <td>1</td>\n",
       "      <td>12</td>\n",
       "      <td>4</td>\n",
       "      <td>1</td>\n",
       "      <td>2</td>\n",
       "      <td>5885000</td>\n",
       "      <td>1</td>\n",
       "    </tr>\n",
       "  </tbody>\n",
       "</table>\n",
       "<p>193011 rows × 10 columns</p>\n",
       "</div>"
      ],
      "text/plain": [
       "        seller_type  layout_type  property_type  furnish_type  bedroom  \\\n",
       "76772             0            1              3             2        1   \n",
       "99651             1            1              3             1        1   \n",
       "161394            1            1              3             0        1   \n",
       "161416            1            1              3             0        1   \n",
       "92703             1            0              1             1        1   \n",
       "...             ...          ...            ...           ...      ...   \n",
       "72312             0            0              4             1        8   \n",
       "72922             0            0              4             1       15   \n",
       "72072             0            0              4             1       15   \n",
       "72080             0            0              4             1       15   \n",
       "70682             0            0              2             1       12   \n",
       "\n",
       "        bathroom  city  area    price  count  \n",
       "76772          1     1     0     1200      1  \n",
       "99651          1     6     0     1500      1  \n",
       "161394         1     0     0     1500      1  \n",
       "161416         1     0     0     1500      1  \n",
       "92703          1     5     0     1500      1  \n",
       "...          ...   ...   ...      ...    ...  \n",
       "72312          8     1     2  4010000      1  \n",
       "72922          5     1     2  4011000      1  \n",
       "72072          5     1     2  4129000      1  \n",
       "72080          5     1     2  4129000      1  \n",
       "70682          4     1     2  5885000      1  \n",
       "\n",
       "[193011 rows x 10 columns]"
      ]
     },
     "execution_count": 59,
     "metadata": {},
     "output_type": "execute_result"
    }
   ],
   "source": [
    "df.sort_values('price')"
   ]
  },
  {
   "cell_type": "code",
   "execution_count": 60,
   "id": "aea738c2",
   "metadata": {},
   "outputs": [],
   "source": [
    "def pr(x):\n",
    "    if 0 <= x < 1000000:\n",
    "        return 'Under 10 Lakh'\n",
    "    elif 1000000 <= x < 2500000:\n",
    "        return 'Under 25 Lakh'\n",
    "    elif 2500000 <= x < 5000000:\n",
    "        return 'Under 50 Lakh'\n",
    "    else:\n",
    "        return 'More than 50 Lakh'"
   ]
  },
  {
   "cell_type": "code",
   "execution_count": 61,
   "id": "6b9e1b63",
   "metadata": {},
   "outputs": [],
   "source": [
    "df.price = df.price.apply(pr)"
   ]
  },
  {
   "cell_type": "code",
   "execution_count": 62,
   "id": "b4753ab2",
   "metadata": {
    "scrolled": false
   },
   "outputs": [
    {
     "data": {
      "text/plain": [
       "seller_type       int64\n",
       "layout_type       int64\n",
       "property_type     int64\n",
       "furnish_type      int64\n",
       "bedroom           int64\n",
       "bathroom          int64\n",
       "city              int64\n",
       "area              int64\n",
       "price            object\n",
       "count             int64\n",
       "dtype: object"
      ]
     },
     "execution_count": 62,
     "metadata": {},
     "output_type": "execute_result"
    }
   ],
   "source": [
    "df.dtypes"
   ]
  },
  {
   "cell_type": "markdown",
   "id": "16e6ece9",
   "metadata": {},
   "source": [
    "### Observation :\n",
    "* From the above datatypes we can see that all our categorical values are changed to numeric values."
   ]
  },
  {
   "cell_type": "markdown",
   "id": "4028991a",
   "metadata": {},
   "source": [
    "### Print the updated dataset"
   ]
  },
  {
   "cell_type": "code",
   "execution_count": 63,
   "id": "26247d0e",
   "metadata": {},
   "outputs": [
    {
     "data": {
      "text/html": [
       "<div>\n",
       "<style scoped>\n",
       "    .dataframe tbody tr th:only-of-type {\n",
       "        vertical-align: middle;\n",
       "    }\n",
       "\n",
       "    .dataframe tbody tr th {\n",
       "        vertical-align: top;\n",
       "    }\n",
       "\n",
       "    .dataframe thead th {\n",
       "        text-align: right;\n",
       "    }\n",
       "</style>\n",
       "<table border=\"1\" class=\"dataframe\">\n",
       "  <thead>\n",
       "    <tr style=\"text-align: right;\">\n",
       "      <th></th>\n",
       "      <th>seller_type</th>\n",
       "      <th>layout_type</th>\n",
       "      <th>property_type</th>\n",
       "      <th>furnish_type</th>\n",
       "      <th>bedroom</th>\n",
       "      <th>bathroom</th>\n",
       "      <th>city</th>\n",
       "      <th>area</th>\n",
       "      <th>price</th>\n",
       "      <th>count</th>\n",
       "    </tr>\n",
       "  </thead>\n",
       "  <tbody>\n",
       "    <tr>\n",
       "      <th>0</th>\n",
       "      <td>1</td>\n",
       "      <td>0</td>\n",
       "      <td>0</td>\n",
       "      <td>2</td>\n",
       "      <td>2</td>\n",
       "      <td>2</td>\n",
       "      <td>4</td>\n",
       "      <td>1</td>\n",
       "      <td>Under 10 Lakh</td>\n",
       "      <td>1</td>\n",
       "    </tr>\n",
       "    <tr>\n",
       "      <th>1</th>\n",
       "      <td>1</td>\n",
       "      <td>1</td>\n",
       "      <td>3</td>\n",
       "      <td>0</td>\n",
       "      <td>1</td>\n",
       "      <td>1</td>\n",
       "      <td>4</td>\n",
       "      <td>0</td>\n",
       "      <td>Under 10 Lakh</td>\n",
       "      <td>1</td>\n",
       "    </tr>\n",
       "    <tr>\n",
       "      <th>2</th>\n",
       "      <td>1</td>\n",
       "      <td>0</td>\n",
       "      <td>0</td>\n",
       "      <td>1</td>\n",
       "      <td>3</td>\n",
       "      <td>3</td>\n",
       "      <td>4</td>\n",
       "      <td>1</td>\n",
       "      <td>Under 10 Lakh</td>\n",
       "      <td>1</td>\n",
       "    </tr>\n",
       "    <tr>\n",
       "      <th>3</th>\n",
       "      <td>1</td>\n",
       "      <td>0</td>\n",
       "      <td>2</td>\n",
       "      <td>0</td>\n",
       "      <td>2</td>\n",
       "      <td>2</td>\n",
       "      <td>4</td>\n",
       "      <td>1</td>\n",
       "      <td>Under 10 Lakh</td>\n",
       "      <td>1</td>\n",
       "    </tr>\n",
       "    <tr>\n",
       "      <th>4</th>\n",
       "      <td>1</td>\n",
       "      <td>0</td>\n",
       "      <td>2</td>\n",
       "      <td>2</td>\n",
       "      <td>2</td>\n",
       "      <td>2</td>\n",
       "      <td>4</td>\n",
       "      <td>1</td>\n",
       "      <td>Under 10 Lakh</td>\n",
       "      <td>1</td>\n",
       "    </tr>\n",
       "    <tr>\n",
       "      <th>...</th>\n",
       "      <td>...</td>\n",
       "      <td>...</td>\n",
       "      <td>...</td>\n",
       "      <td>...</td>\n",
       "      <td>...</td>\n",
       "      <td>...</td>\n",
       "      <td>...</td>\n",
       "      <td>...</td>\n",
       "      <td>...</td>\n",
       "      <td>...</td>\n",
       "    </tr>\n",
       "    <tr>\n",
       "      <th>193006</th>\n",
       "      <td>1</td>\n",
       "      <td>0</td>\n",
       "      <td>0</td>\n",
       "      <td>0</td>\n",
       "      <td>1</td>\n",
       "      <td>1</td>\n",
       "      <td>3</td>\n",
       "      <td>0</td>\n",
       "      <td>Under 10 Lakh</td>\n",
       "      <td>1</td>\n",
       "    </tr>\n",
       "    <tr>\n",
       "      <th>193007</th>\n",
       "      <td>1</td>\n",
       "      <td>1</td>\n",
       "      <td>3</td>\n",
       "      <td>1</td>\n",
       "      <td>1</td>\n",
       "      <td>1</td>\n",
       "      <td>3</td>\n",
       "      <td>0</td>\n",
       "      <td>Under 10 Lakh</td>\n",
       "      <td>1</td>\n",
       "    </tr>\n",
       "    <tr>\n",
       "      <th>193008</th>\n",
       "      <td>1</td>\n",
       "      <td>0</td>\n",
       "      <td>0</td>\n",
       "      <td>0</td>\n",
       "      <td>1</td>\n",
       "      <td>1</td>\n",
       "      <td>3</td>\n",
       "      <td>0</td>\n",
       "      <td>Under 10 Lakh</td>\n",
       "      <td>1</td>\n",
       "    </tr>\n",
       "    <tr>\n",
       "      <th>193009</th>\n",
       "      <td>0</td>\n",
       "      <td>0</td>\n",
       "      <td>0</td>\n",
       "      <td>0</td>\n",
       "      <td>1</td>\n",
       "      <td>2</td>\n",
       "      <td>3</td>\n",
       "      <td>0</td>\n",
       "      <td>Under 10 Lakh</td>\n",
       "      <td>1</td>\n",
       "    </tr>\n",
       "    <tr>\n",
       "      <th>193010</th>\n",
       "      <td>0</td>\n",
       "      <td>0</td>\n",
       "      <td>0</td>\n",
       "      <td>1</td>\n",
       "      <td>2</td>\n",
       "      <td>2</td>\n",
       "      <td>3</td>\n",
       "      <td>0</td>\n",
       "      <td>Under 10 Lakh</td>\n",
       "      <td>1</td>\n",
       "    </tr>\n",
       "  </tbody>\n",
       "</table>\n",
       "<p>193011 rows × 10 columns</p>\n",
       "</div>"
      ],
      "text/plain": [
       "        seller_type  layout_type  property_type  furnish_type  bedroom  \\\n",
       "0                 1            0              0             2        2   \n",
       "1                 1            1              3             0        1   \n",
       "2                 1            0              0             1        3   \n",
       "3                 1            0              2             0        2   \n",
       "4                 1            0              2             2        2   \n",
       "...             ...          ...            ...           ...      ...   \n",
       "193006            1            0              0             0        1   \n",
       "193007            1            1              3             1        1   \n",
       "193008            1            0              0             0        1   \n",
       "193009            0            0              0             0        1   \n",
       "193010            0            0              0             1        2   \n",
       "\n",
       "        bathroom  city  area          price  count  \n",
       "0              2     4     1  Under 10 Lakh      1  \n",
       "1              1     4     0  Under 10 Lakh      1  \n",
       "2              3     4     1  Under 10 Lakh      1  \n",
       "3              2     4     1  Under 10 Lakh      1  \n",
       "4              2     4     1  Under 10 Lakh      1  \n",
       "...          ...   ...   ...            ...    ...  \n",
       "193006         1     3     0  Under 10 Lakh      1  \n",
       "193007         1     3     0  Under 10 Lakh      1  \n",
       "193008         1     3     0  Under 10 Lakh      1  \n",
       "193009         2     3     0  Under 10 Lakh      1  \n",
       "193010         2     3     0  Under 10 Lakh      1  \n",
       "\n",
       "[193011 rows x 10 columns]"
      ]
     },
     "execution_count": 63,
     "metadata": {},
     "output_type": "execute_result"
    }
   ],
   "source": [
    "df"
   ]
  },
  {
   "cell_type": "markdown",
   "id": "43d76e0e",
   "metadata": {},
   "source": [
    "### Assigning the value to x and y for train and test dataset"
   ]
  },
  {
   "cell_type": "code",
   "execution_count": 65,
   "id": "74f731f9",
   "metadata": {},
   "outputs": [],
   "source": [
    "x = df.drop(['price','count'],axis = 1)"
   ]
  },
  {
   "cell_type": "code",
   "execution_count": 66,
   "id": "19940b5f",
   "metadata": {},
   "outputs": [],
   "source": [
    "y = df.price"
   ]
  },
  {
   "cell_type": "code",
   "execution_count": 67,
   "id": "08ce89f4",
   "metadata": {},
   "outputs": [],
   "source": [
    "from sklearn.model_selection import train_test_split"
   ]
  },
  {
   "cell_type": "code",
   "execution_count": 68,
   "id": "d4a1b2c9",
   "metadata": {},
   "outputs": [],
   "source": [
    "x_train,x_test,y_train,y_test = train_test_split(x,y,test_size = 0.3)"
   ]
  },
  {
   "cell_type": "markdown",
   "id": "70c103aa",
   "metadata": {},
   "source": [
    "### Print the shape of train and test data"
   ]
  },
  {
   "cell_type": "code",
   "execution_count": 69,
   "id": "2c9e84b6",
   "metadata": {
    "scrolled": true
   },
   "outputs": [
    {
     "name": "stdout",
     "output_type": "stream",
     "text": [
      "Training Data Shape:  (135107, 8)\n",
      "Training Target Shape:  (135107,)\n",
      "Test Data Shape:  (57904, 8)\n",
      "Test Target Shape:  (57904,)\n"
     ]
    }
   ],
   "source": [
    "print('Training Data Shape: ',x_train.shape)\n",
    "print('Training Target Shape: ',y_train.shape)\n",
    "print('Test Data Shape: ',x_test.shape)\n",
    "print('Test Target Shape: ',y_test.shape)"
   ]
  },
  {
   "cell_type": "markdown",
   "id": "5b580d28",
   "metadata": {},
   "source": [
    "### Observation :-\n",
    "* Splitting the whole data into trian and test data.\n",
    "    - Here we have splitted the whole data to 70% for training data.\n",
    "    - 30% data is splitted for testing data."
   ]
  },
  {
   "cell_type": "markdown",
   "id": "65d0866d",
   "metadata": {},
   "source": [
    "### LogisticRegression"
   ]
  },
  {
   "cell_type": "code",
   "execution_count": 70,
   "id": "a5df6070",
   "metadata": {},
   "outputs": [],
   "source": [
    "from sklearn.linear_model import LogisticRegression"
   ]
  },
  {
   "cell_type": "code",
   "execution_count": 71,
   "id": "e4129e3e",
   "metadata": {},
   "outputs": [],
   "source": [
    "modelLR = LogisticRegression()"
   ]
  },
  {
   "cell_type": "code",
   "execution_count": 72,
   "id": "f849a6cd",
   "metadata": {},
   "outputs": [
    {
     "data": {
      "text/plain": [
       "LogisticRegression()"
      ]
     },
     "execution_count": 72,
     "metadata": {},
     "output_type": "execute_result"
    }
   ],
   "source": [
    "modelLR.fit(x_train,y_train)"
   ]
  },
  {
   "cell_type": "code",
   "execution_count": 73,
   "id": "b7511ffd",
   "metadata": {},
   "outputs": [],
   "source": [
    "from sklearn.metrics import accuracy_score"
   ]
  },
  {
   "cell_type": "code",
   "execution_count": 74,
   "id": "bbf54aaa",
   "metadata": {},
   "outputs": [],
   "source": [
    "y_predict = modelLR.predict(x_test)"
   ]
  },
  {
   "cell_type": "code",
   "execution_count": 75,
   "id": "0f6611b8",
   "metadata": {},
   "outputs": [
    {
     "data": {
      "text/plain": [
       "99.91365017960763"
      ]
     },
     "execution_count": 75,
     "metadata": {},
     "output_type": "execute_result"
    }
   ],
   "source": [
    "acu_1 = accuracy_score(y_test,y_predict)*100\n",
    "acu_1"
   ]
  },
  {
   "cell_type": "code",
   "execution_count": 76,
   "id": "131a2c86",
   "metadata": {},
   "outputs": [],
   "source": [
    "from sklearn.metrics import classification_report  "
   ]
  },
  {
   "cell_type": "code",
   "execution_count": 77,
   "id": "8874ceb1",
   "metadata": {
    "scrolled": true
   },
   "outputs": [
    {
     "name": "stdout",
     "output_type": "stream",
     "text": [
      "LogisticRegression - Classification Report\n",
      "\n",
      "               precision    recall  f1-score   support\n",
      "\n",
      "Under 10 Lakh       1.00      1.00      1.00     57855\n",
      "Under 25 Lakh       0.42      0.17      0.25        46\n",
      "Under 50 Lakh       0.00      0.00      0.00         3\n",
      "\n",
      "     accuracy                           1.00     57904\n",
      "    macro avg       0.47      0.39      0.42     57904\n",
      " weighted avg       1.00      1.00      1.00     57904\n",
      "\n"
     ]
    }
   ],
   "source": [
    "print('LogisticRegression - Classification Report\\n')\n",
    "print(classification_report(y_test,y_predict))"
   ]
  },
  {
   "cell_type": "code",
   "execution_count": 78,
   "id": "7aab3c3d",
   "metadata": {},
   "outputs": [],
   "source": [
    "from sklearn.metrics import plot_confusion_matrix"
   ]
  },
  {
   "cell_type": "code",
   "execution_count": 79,
   "id": "7bab78fc",
   "metadata": {},
   "outputs": [
    {
     "data": {
      "image/png": "[encoded data removed]",
      "text/plain": [
       "<Figure size 432x288 with 2 Axes>"
      ]
     },
     "metadata": {},
     "output_type": "display_data"
    }
   ],
   "source": [
    "plot_confusion_matrix(modelLR,x_test,y_test)\n",
    "plt.title('Confusion Matrix of LogisticRegression Model\\n',fontsize = 20,color = 'blue')\n",
    "plt.xlabel('\\nPredicted',fontsize=16,color = 'green')\n",
    "plt.ylabel('Actual\\n',fontsize = 16, color = 'green')\n",
    "plt.xticks(rotation = 90)\n",
    "plt.show()"
   ]
  },
  {
   "cell_type": "markdown",
   "id": "a52c95c4",
   "metadata": {},
   "source": [
    "### Observation :-\n",
    "* By applying Logistic Regression, model accuracy is 99.89%."
   ]
  },
  {
   "cell_type": "markdown",
   "id": "e21b73fd",
   "metadata": {},
   "source": [
    "### DecisionTreeClassifier"
   ]
  },
  {
   "cell_type": "code",
   "execution_count": 80,
   "id": "4f432fa2",
   "metadata": {},
   "outputs": [],
   "source": [
    "from sklearn.tree import DecisionTreeClassifier"
   ]
  },
  {
   "cell_type": "code",
   "execution_count": 81,
   "id": "adcac7fb",
   "metadata": {},
   "outputs": [],
   "source": [
    "modelDT = DecisionTreeClassifier()"
   ]
  },
  {
   "cell_type": "code",
   "execution_count": 82,
   "id": "08c734df",
   "metadata": {},
   "outputs": [
    {
     "data": {
      "text/plain": [
       "DecisionTreeClassifier()"
      ]
     },
     "execution_count": 82,
     "metadata": {},
     "output_type": "execute_result"
    }
   ],
   "source": [
    "modelDT.fit(x_train,y_train)"
   ]
  },
  {
   "cell_type": "code",
   "execution_count": 83,
   "id": "5a17a094",
   "metadata": {},
   "outputs": [],
   "source": [
    "y_predict2 = modelDT.predict(x_test)"
   ]
  },
  {
   "cell_type": "code",
   "execution_count": 84,
   "id": "87a8aabd",
   "metadata": {},
   "outputs": [
    {
     "data": {
      "text/plain": [
       "99.91365017960763"
      ]
     },
     "execution_count": 84,
     "metadata": {},
     "output_type": "execute_result"
    }
   ],
   "source": [
    "acu_2 = accuracy_score(y_test,y_predict2)*100\n",
    "acu_2"
   ]
  },
  {
   "cell_type": "code",
   "execution_count": 85,
   "id": "025a1da4",
   "metadata": {
    "scrolled": true
   },
   "outputs": [
    {
     "name": "stdout",
     "output_type": "stream",
     "text": [
      "DecisionTreeClassifier - Classification Report\n",
      "\n",
      "                   precision    recall  f1-score   support\n",
      "\n",
      "More than 50 Lakh       0.00      0.00      0.00         0\n",
      "    Under 10 Lakh       1.00      1.00      1.00     57855\n",
      "    Under 25 Lakh       0.46      0.13      0.20        46\n",
      "    Under 50 Lakh       0.00      0.00      0.00         3\n",
      "\n",
      "         accuracy                           1.00     57904\n",
      "        macro avg       0.37      0.28      0.30     57904\n",
      "     weighted avg       1.00      1.00      1.00     57904\n",
      "\n"
     ]
    }
   ],
   "source": [
    "print('DecisionTreeClassifier - Classification Report\\n')\n",
    "print(classification_report(y_test,y_predict2))"
   ]
  },
  {
   "cell_type": "code",
   "execution_count": 86,
   "id": "cd25dec3",
   "metadata": {},
   "outputs": [
    {
     "data": {
      "image/png": "[encoded data removed]",
      "text/plain": [
       "<Figure size 432x288 with 2 Axes>"
      ]
     },
     "metadata": {},
     "output_type": "display_data"
    }
   ],
   "source": [
    "plot_confusion_matrix(modelDT,x_test,y_test)\n",
    "plt.title('Confusion Matrix of DecisionTreeClassifier Model\\n',fontsize = 20,color = 'blue')\n",
    "plt.xlabel('\\nPredicted',fontsize=16,color = 'green')\n",
    "plt.ylabel('Actual\\n',fontsize = 16, color = 'green')\n",
    "plt.xticks(rotation = 90)\n",
    "plt.show()"
   ]
  },
  {
   "cell_type": "markdown",
   "id": "9f51044c",
   "metadata": {},
   "source": [
    "### Observation :-\n",
    "* By applying DecisionTreeClassifier, model accuracy is 99.89%."
   ]
  },
  {
   "cell_type": "markdown",
   "id": "50a86519",
   "metadata": {},
   "source": [
    "### RandomForestClassifier"
   ]
  },
  {
   "cell_type": "code",
   "execution_count": 87,
   "id": "2b99af56",
   "metadata": {},
   "outputs": [],
   "source": [
    "from sklearn.ensemble import RandomForestClassifier"
   ]
  },
  {
   "cell_type": "code",
   "execution_count": 88,
   "id": "c96b0bfa",
   "metadata": {},
   "outputs": [],
   "source": [
    "modelRF = RandomForestClassifier()"
   ]
  },
  {
   "cell_type": "code",
   "execution_count": 89,
   "id": "8b8da36b",
   "metadata": {},
   "outputs": [
    {
     "data": {
      "text/plain": [
       "RandomForestClassifier()"
      ]
     },
     "execution_count": 89,
     "metadata": {},
     "output_type": "execute_result"
    }
   ],
   "source": [
    "modelRF.fit(x_train,y_train)"
   ]
  },
  {
   "cell_type": "code",
   "execution_count": 90,
   "id": "73387b6c",
   "metadata": {},
   "outputs": [],
   "source": [
    "y_predict3 = modelRF.predict(x_test)"
   ]
  },
  {
   "cell_type": "code",
   "execution_count": 91,
   "id": "d3cfaf20",
   "metadata": {},
   "outputs": [
    {
     "data": {
      "text/plain": [
       "99.92055816523902"
      ]
     },
     "execution_count": 91,
     "metadata": {},
     "output_type": "execute_result"
    }
   ],
   "source": [
    "acu_3 = accuracy_score(y_test,y_predict3)*100\n",
    "acu_3"
   ]
  },
  {
   "cell_type": "code",
   "execution_count": 92,
   "id": "60ccb732",
   "metadata": {
    "scrolled": true
   },
   "outputs": [
    {
     "name": "stdout",
     "output_type": "stream",
     "text": [
      "RandomForestClassifier - Classification Report\n",
      "\n",
      "               precision    recall  f1-score   support\n",
      "\n",
      "Under 10 Lakh       1.00      1.00      1.00     57855\n",
      "Under 25 Lakh       0.62      0.17      0.27        46\n",
      "Under 50 Lakh       0.00      0.00      0.00         3\n",
      "\n",
      "     accuracy                           1.00     57904\n",
      "    macro avg       0.54      0.39      0.42     57904\n",
      " weighted avg       1.00      1.00      1.00     57904\n",
      "\n"
     ]
    }
   ],
   "source": [
    "print('RandomForestClassifier - Classification Report\\n')\n",
    "print(classification_report(y_test,y_predict3))"
   ]
  },
  {
   "cell_type": "code",
   "execution_count": 93,
   "id": "2161c0b0",
   "metadata": {},
   "outputs": [
    {
     "data": {
      "image/png": "[encoded data removed]",
      "text/plain": [
       "<Figure size 432x288 with 2 Axes>"
      ]
     },
     "metadata": {},
     "output_type": "display_data"
    }
   ],
   "source": [
    "plot_confusion_matrix(modelRF,x_test,y_test)\n",
    "plt.title('Confusion Matrix of RandomForestClassifier Model\\n',fontsize = 20,color = 'blue')\n",
    "plt.xlabel('\\nPredicted',fontsize=16,color = 'green')\n",
    "plt.ylabel('Actual\\n',fontsize = 16, color = 'green')\n",
    "plt.xticks(rotation = 90)\n",
    "plt.show()"
   ]
  },
  {
   "cell_type": "markdown",
   "id": "68fa003d",
   "metadata": {},
   "source": [
    "### Observation :-\n",
    "* By applying RandomForestClassifier, model accuracy is 99.90%."
   ]
  },
  {
   "cell_type": "markdown",
   "id": "6a1eafa8",
   "metadata": {},
   "source": [
    "### Naive Bayes"
   ]
  },
  {
   "cell_type": "code",
   "execution_count": 94,
   "id": "ee41cbbc",
   "metadata": {},
   "outputs": [],
   "source": [
    "from sklearn.naive_bayes import MultinomialNB"
   ]
  },
  {
   "cell_type": "code",
   "execution_count": 95,
   "id": "84ae7007",
   "metadata": {},
   "outputs": [],
   "source": [
    "modelNB = MultinomialNB()"
   ]
  },
  {
   "cell_type": "code",
   "execution_count": 96,
   "id": "47e39104",
   "metadata": {},
   "outputs": [
    {
     "data": {
      "text/plain": [
       "MultinomialNB()"
      ]
     },
     "execution_count": 96,
     "metadata": {},
     "output_type": "execute_result"
    }
   ],
   "source": [
    "modelNB.fit(x_train,y_train)"
   ]
  },
  {
   "cell_type": "code",
   "execution_count": 97,
   "id": "6c44e7cc",
   "metadata": {},
   "outputs": [],
   "source": [
    "y_predict4 = modelNB.predict(x_test)"
   ]
  },
  {
   "cell_type": "code",
   "execution_count": 98,
   "id": "666bf6fa",
   "metadata": {},
   "outputs": [
    {
     "data": {
      "text/plain": [
       "99.91537717601547"
      ]
     },
     "execution_count": 98,
     "metadata": {},
     "output_type": "execute_result"
    }
   ],
   "source": [
    "acu_4 = accuracy_score(y_test,y_predict4)*100\n",
    "acu_4"
   ]
  },
  {
   "cell_type": "code",
   "execution_count": 99,
   "id": "6d8b67e6",
   "metadata": {
    "scrolled": true
   },
   "outputs": [
    {
     "name": "stdout",
     "output_type": "stream",
     "text": [
      "NaiveBayes - Classification Report\n",
      "\n",
      "               precision    recall  f1-score   support\n",
      "\n",
      "Under 10 Lakh       1.00      1.00      1.00     57855\n",
      "Under 25 Lakh       0.43      0.07      0.11        46\n",
      "Under 50 Lakh       0.00      0.00      0.00         3\n",
      "\n",
      "     accuracy                           1.00     57904\n",
      "    macro avg       0.48      0.36      0.37     57904\n",
      " weighted avg       1.00      1.00      1.00     57904\n",
      "\n"
     ]
    }
   ],
   "source": [
    "print('NaiveBayes - Classification Report\\n')\n",
    "print(classification_report(y_test,y_predict4))"
   ]
  },
  {
   "cell_type": "code",
   "execution_count": 100,
   "id": "e6b1b239",
   "metadata": {},
   "outputs": [
    {
     "data": {
      "image/png": "[encoded data removed]",
      "text/plain": [
       "<Figure size 432x288 with 2 Axes>"
      ]
     },
     "metadata": {},
     "output_type": "display_data"
    }
   ],
   "source": [
    "plot_confusion_matrix(modelNB,x_test,y_test)\n",
    "plt.title('Confusion Matrix of NaiveBayes Model\\n',fontsize = 20,color = 'blue')\n",
    "plt.xlabel('\\nPredicted',fontsize=16,color = 'green')\n",
    "plt.ylabel('Actual\\n',fontsize = 16, color = 'green')\n",
    "plt.xticks(rotation = 90)\n",
    "plt.show()"
   ]
  },
  {
   "cell_type": "markdown",
   "id": "a99ab690",
   "metadata": {},
   "source": [
    "### Observation :-\n",
    "* By applying Naive Bayes, model accuracy is 99.90%."
   ]
  },
  {
   "cell_type": "markdown",
   "id": "315b2e41",
   "metadata": {},
   "source": [
    "### Comparing accuracy of each model"
   ]
  },
  {
   "cell_type": "code",
   "execution_count": 101,
   "id": "03c0bd9e",
   "metadata": {},
   "outputs": [
    {
     "data": {
      "text/html": [
       "<div>\n",
       "<style scoped>\n",
       "    .dataframe tbody tr th:only-of-type {\n",
       "        vertical-align: middle;\n",
       "    }\n",
       "\n",
       "    .dataframe tbody tr th {\n",
       "        vertical-align: top;\n",
       "    }\n",
       "\n",
       "    .dataframe thead th {\n",
       "        text-align: right;\n",
       "    }\n",
       "</style>\n",
       "<table border=\"1\" class=\"dataframe\">\n",
       "  <thead>\n",
       "    <tr style=\"text-align: right;\">\n",
       "      <th></th>\n",
       "      <th>Model</th>\n",
       "      <th>Accuracy</th>\n",
       "    </tr>\n",
       "  </thead>\n",
       "  <tbody>\n",
       "    <tr>\n",
       "      <th>0</th>\n",
       "      <td>LR</td>\n",
       "      <td>99.913650</td>\n",
       "    </tr>\n",
       "    <tr>\n",
       "      <th>1</th>\n",
       "      <td>DT</td>\n",
       "      <td>99.913650</td>\n",
       "    </tr>\n",
       "    <tr>\n",
       "      <th>2</th>\n",
       "      <td>RF</td>\n",
       "      <td>99.920558</td>\n",
       "    </tr>\n",
       "    <tr>\n",
       "      <th>3</th>\n",
       "      <td>NB</td>\n",
       "      <td>99.915377</td>\n",
       "    </tr>\n",
       "  </tbody>\n",
       "</table>\n",
       "</div>"
      ],
      "text/plain": [
       "  Model   Accuracy\n",
       "0    LR  99.913650\n",
       "1    DT  99.913650\n",
       "2    RF  99.920558\n",
       "3    NB  99.915377"
      ]
     },
     "execution_count": 101,
     "metadata": {},
     "output_type": "execute_result"
    }
   ],
   "source": [
    "accuracy = pd.DataFrame({'Model':['LR','DT','RF','NB'],'Accuracy':[acu_1,acu_2,acu_3,acu_4]})\n",
    "accuracy   "
   ]
  },
  {
   "cell_type": "code",
   "execution_count": 102,
   "id": "e77d2100",
   "metadata": {
    "scrolled": false
   },
   "outputs": [
    {
     "data": {
      "image/png": "[encoded data removed]",
      "text/plain": [
       "<Figure size 432x288 with 1 Axes>"
      ]
     },
     "metadata": {},
     "output_type": "display_data"
    }
   ],
   "source": [
    "sns.barplot('Model','Accuracy',data = accuracy,palette = 'pastel')\n",
    "plt.title('Comparision of Accuracy\\n',fontsize = 20,color = 'green')\n",
    "plt.xlabel('\\nModel',fontsize = 16,color = 'blue')\n",
    "plt.ylabel('Accuracy\\n',fontsize = 16,color = 'blue')\n",
    "plt.show()"
   ]
  },
  {
   "cell_type": "markdown",
   "id": "4cc7db85",
   "metadata": {},
   "source": [
    "### Observation :-\n",
    "* From the above bar plot we can see that LogisticRegression model is providing best accuracy."
   ]
  },
  {
   "cell_type": "markdown",
   "id": "1c96a192",
   "metadata": {},
   "source": [
    "### Creating new DataFrame with Actual and Predicted Values Considering LogisticRegression Model"
   ]
  },
  {
   "cell_type": "code",
   "execution_count": 103,
   "id": "41ce566d",
   "metadata": {},
   "outputs": [
    {
     "data": {
      "text/html": [
       "<div>\n",
       "<style scoped>\n",
       "    .dataframe tbody tr th:only-of-type {\n",
       "        vertical-align: middle;\n",
       "    }\n",
       "\n",
       "    .dataframe tbody tr th {\n",
       "        vertical-align: top;\n",
       "    }\n",
       "\n",
       "    .dataframe thead th {\n",
       "        text-align: right;\n",
       "    }\n",
       "</style>\n",
       "<table border=\"1\" class=\"dataframe\">\n",
       "  <thead>\n",
       "    <tr style=\"text-align: right;\">\n",
       "      <th></th>\n",
       "      <th>Actual</th>\n",
       "      <th>Predicted</th>\n",
       "    </tr>\n",
       "  </thead>\n",
       "  <tbody>\n",
       "    <tr>\n",
       "      <th>22523</th>\n",
       "      <td>Under 10 Lakh</td>\n",
       "      <td>Under 10 Lakh</td>\n",
       "    </tr>\n",
       "    <tr>\n",
       "      <th>36184</th>\n",
       "      <td>Under 10 Lakh</td>\n",
       "      <td>Under 10 Lakh</td>\n",
       "    </tr>\n",
       "    <tr>\n",
       "      <th>84410</th>\n",
       "      <td>Under 10 Lakh</td>\n",
       "      <td>Under 10 Lakh</td>\n",
       "    </tr>\n",
       "    <tr>\n",
       "      <th>30644</th>\n",
       "      <td>Under 10 Lakh</td>\n",
       "      <td>Under 10 Lakh</td>\n",
       "    </tr>\n",
       "    <tr>\n",
       "      <th>53950</th>\n",
       "      <td>Under 10 Lakh</td>\n",
       "      <td>Under 10 Lakh</td>\n",
       "    </tr>\n",
       "    <tr>\n",
       "      <th>...</th>\n",
       "      <td>...</td>\n",
       "      <td>...</td>\n",
       "    </tr>\n",
       "    <tr>\n",
       "      <th>1992</th>\n",
       "      <td>Under 10 Lakh</td>\n",
       "      <td>Under 10 Lakh</td>\n",
       "    </tr>\n",
       "    <tr>\n",
       "      <th>110580</th>\n",
       "      <td>Under 10 Lakh</td>\n",
       "      <td>Under 10 Lakh</td>\n",
       "    </tr>\n",
       "    <tr>\n",
       "      <th>28327</th>\n",
       "      <td>Under 10 Lakh</td>\n",
       "      <td>Under 10 Lakh</td>\n",
       "    </tr>\n",
       "    <tr>\n",
       "      <th>69801</th>\n",
       "      <td>Under 10 Lakh</td>\n",
       "      <td>Under 10 Lakh</td>\n",
       "    </tr>\n",
       "    <tr>\n",
       "      <th>65080</th>\n",
       "      <td>Under 10 Lakh</td>\n",
       "      <td>Under 10 Lakh</td>\n",
       "    </tr>\n",
       "  </tbody>\n",
       "</table>\n",
       "<p>57904 rows × 2 columns</p>\n",
       "</div>"
      ],
      "text/plain": [
       "               Actual      Predicted\n",
       "22523   Under 10 Lakh  Under 10 Lakh\n",
       "36184   Under 10 Lakh  Under 10 Lakh\n",
       "84410   Under 10 Lakh  Under 10 Lakh\n",
       "30644   Under 10 Lakh  Under 10 Lakh\n",
       "53950   Under 10 Lakh  Under 10 Lakh\n",
       "...               ...            ...\n",
       "1992    Under 10 Lakh  Under 10 Lakh\n",
       "110580  Under 10 Lakh  Under 10 Lakh\n",
       "28327   Under 10 Lakh  Under 10 Lakh\n",
       "69801   Under 10 Lakh  Under 10 Lakh\n",
       "65080   Under 10 Lakh  Under 10 Lakh\n",
       "\n",
       "[57904 rows x 2 columns]"
      ]
     },
     "execution_count": 103,
     "metadata": {},
     "output_type": "execute_result"
    }
   ],
   "source": [
    "new_df = pd.DataFrame({'Actual':y_test,'Predicted':y_predict})  \n",
    "new_df"
   ]
  },
  {
   "cell_type": "markdown",
   "id": "f7ec4456",
   "metadata": {},
   "source": [
    "### Conclusion :"
   ]
  },
  {
   "cell_type": "markdown",
   "id": "b71eecd9",
   "metadata": {},
   "source": [
    "* From the above analysis we can conclude that Delhi has both maximum and minimum priced property listed.\n",
    "    - Maximum priced property comes at a price of more than 50 lakhs.\n",
    "    - Minimum priced property comes at a price of under 10 lakhs.\n",
    "* Most of the properties are listed by the Agents.\n",
    "* A person can find an Apartment easily in the listed Property_Type.\n",
    "* There are maximum number of Semi-Furnished properties listed.\n",
    "* Mumbai has the maximum number of properties listed.\n",
    "* Most of the properties listed consist of 2 bedrooms with 2 bathrooms. \n",
    "* On implementing different classification models on the dataset we have observed that the best model for predicting the Price of a property is LogisticRegression model.\n",
    "* The model is giving 99.91% accuracy, so we can consider this model for predicting the Price of a property."
   ]
  },
  {
   "cell_type": "code",
   "execution_count": null,
   "id": "e69f43d3",
   "metadata": {},
   "outputs": [],
   "source": []
  }
 ],
 "metadata": {
  "kernelspec": {
   "display_name": "Python 3 (ipykernel)",
   "language": "python",
   "name": "python3"
  },
  "language_info": {
   "codemirror_mode": {
    "name": "ipython",
    "version": 3
   },
   "file_extension": ".py",
   "mimetype": "text/x-python",
   "name": "python",
   "nbconvert_exporter": "python",
   "pygments_lexer": "ipython3",
   "version": "3.9.12"
  }
 },
 "nbformat": 4,
 "nbformat_minor": 5
}
